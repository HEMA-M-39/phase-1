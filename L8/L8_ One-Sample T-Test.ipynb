{
 "cells": [
  {
   "cell_type": "code",
   "execution_count": 1,
   "id": "27f8f717-4eb9-4532-b9b7-9770063fdf0e",
   "metadata": {},
   "outputs": [
    {
     "name": "stdout",
     "output_type": "stream",
     "text": [
      "T≈ 9.16,p < 0.05, Reject H₀; medication increases IQ (mean = 140 > 100).\n"
     ]
    }
   ],
   "source": [
    "#task 2\n",
    "import scipy.stats as stats\n",
    "import numpy as np\n",
    "\n",
    "data =  np.random.normal(140, 20, 30)\n",
    "t_score, p_value = stats.ttest_1samp(data, popmean=100)\n",
    "α = 0.05\n",
    "if p_value < α:\n",
    "    print(f\"T≈ {t_score:.2f},p < 0.05, Reject H₀; medication increases IQ (mean = 140 > 100).\" )\n",
    "else:\n",
    "     print(\"error\")\n",
    "    "
   ]
  },
  {
   "cell_type": "code",
   "execution_count": null,
   "id": "d9cecc51-7be8-4d53-b967-ee5f07315557",
   "metadata": {},
   "outputs": [],
   "source": []
  }
 ],
 "metadata": {
  "kernelspec": {
   "display_name": "Python [conda env:base] *",
   "language": "python",
   "name": "conda-base-py"
  },
  "language_info": {
   "codemirror_mode": {
    "name": "ipython",
    "version": 3
   },
   "file_extension": ".py",
   "mimetype": "text/x-python",
   "name": "python",
   "nbconvert_exporter": "python",
   "pygments_lexer": "ipython3",
   "version": "3.12.4"
  }
 },
 "nbformat": 4,
 "nbformat_minor": 5
}

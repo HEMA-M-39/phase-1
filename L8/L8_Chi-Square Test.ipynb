{
 "cells": [
  {
   "cell_type": "code",
   "execution_count": 3,
   "id": "07ce9aff-9b18-479d-9132-e91741e81890",
   "metadata": {},
   "outputs": [
    {
     "name": "stdout",
     "output_type": "stream",
     "text": [
      "Chi-square ≈ 232.49, p < 0.05, \"Reject H₀; age distribution changed.\"\n"
     ]
    }
   ],
   "source": [
    "#task 3\n",
    "\n",
    "import scipy.stats as stats\n",
    "\n",
    "observed = [121, 288, 91]\n",
    "expected = [100, 150, 250]\n",
    "\n",
    "chi2_stat, p_val = stats.chisquare(f_obs=observed, f_exp=expected)\n",
    "α = 0.05\n",
    "if p_val < α:\n",
    "    print(f\"Chi-square ≈ {chi2_stat:.2f}, p < 0.05, \\\"Reject H₀; age distribution changed.\\\"\")\n",
    "else:\n",
    "     print(\"error\")"
   ]
  },
  {
   "cell_type": "code",
   "execution_count": null,
   "id": "4ecde3db-22b5-4544-8d2a-52e897ed42df",
   "metadata": {},
   "outputs": [],
   "source": []
  }
 ],
 "metadata": {
  "kernelspec": {
   "display_name": "Python [conda env:base] *",
   "language": "python",
   "name": "conda-base-py"
  },
  "language_info": {
   "codemirror_mode": {
    "name": "ipython",
    "version": 3
   },
   "file_extension": ".py",
   "mimetype": "text/x-python",
   "name": "python",
   "nbconvert_exporter": "python",
   "pygments_lexer": "ipython3",
   "version": "3.12.4"
  }
 },
 "nbformat": 4,
 "nbformat_minor": 5
}

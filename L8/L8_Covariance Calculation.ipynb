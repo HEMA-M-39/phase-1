{
 "cells": [
  {
   "cell_type": "code",
   "execution_count": 9,
   "id": "598d2322-188e-4b54-b9d4-3ebc4565ea89",
   "metadata": {},
   "outputs": [
    {
     "name": "stdout",
     "output_type": "stream",
     "text": [
      "Cov ≈ 45.83, \"Positive covariance; as height increases, weight tends to increase.\"\n"
     ]
    }
   ],
   "source": [
    "import numpy as np\n",
    "\n",
    "height = np.array([160, 170, 180, 175])\n",
    "weight = np.array([60, 70, 75, 65])\n",
    "\n",
    "covariance = np.cov(height, weight, ddof=1)[0, 1]\n",
    "if covariance > 0:\n",
    "    print(f\"Cov ≈ {covariance:.2f}, \\\"Positive covariance; as height increases, weight tends to increase.\\\"\")\n",
    "elif covariance < 0:\n",
    "     print(f\"Cov ≈ {covariance:.2f}, \\\"Negative covariance; as height increases, weight tends to decrease.\\\"\")\n",
    "else:\n",
    "    print(f\"Zero covariance; no relationship between height and weight.\")\n",
    "\n"
   ]
  },
  {
   "cell_type": "code",
   "execution_count": null,
   "id": "08db916f-3da4-44ee-bfea-d6fc83df1d25",
   "metadata": {},
   "outputs": [],
   "source": []
  }
 ],
 "metadata": {
  "kernelspec": {
   "display_name": "Python [conda env:base] *",
   "language": "python",
   "name": "conda-base-py"
  },
  "language_info": {
   "codemirror_mode": {
    "name": "ipython",
    "version": 3
   },
   "file_extension": ".py",
   "mimetype": "text/x-python",
   "name": "python",
   "nbconvert_exporter": "python",
   "pygments_lexer": "ipython3",
   "version": "3.12.4"
  }
 },
 "nbformat": 4,
 "nbformat_minor": 5
}

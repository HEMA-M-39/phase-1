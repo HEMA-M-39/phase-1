{
 "cells": [
  {
   "cell_type": "code",
   "execution_count": 1,
   "id": "df73ad9b-668c-49e8-a54d-a066b3b87ab9",
   "metadata": {},
   "outputs": [
    {
     "name": "stdout",
     "output_type": "stream",
     "text": [
      "Simulated P(success): 0.288\n",
      "Matches theoretical P = 0.3 for Bernoulli trial.\n"
     ]
    }
   ],
   "source": [
    "import numpy as np\n",
    "\n",
    "\n",
    "trials = np.random.binomial(n=1, p=0.3, size=1000)\n",
    "simulated_p = np.mean(trials)\n",
    "\n",
    "print(f\"Simulated P(success): {simulated_p:.3f}\")\n",
    "\n",
    "print(\"Matches theoretical P = 0.3 for Bernoulli trial.\" if np.isclose(simulated_p, 0.3, atol=0.05) else \"Slight deviation due to randomness.\")\n"
   ]
  }
 ],
 "metadata": {
  "kernelspec": {
   "display_name": "Python [conda env:base] *",
   "language": "python",
   "name": "conda-base-py"
  },
  "language_info": {
   "codemirror_mode": {
    "name": "ipython",
    "version": 3
   },
   "file_extension": ".py",
   "mimetype": "text/x-python",
   "name": "python",
   "nbconvert_exporter": "python",
   "pygments_lexer": "ipython3",
   "version": "3.12.4"
  }
 },
 "nbformat": 4,
 "nbformat_minor": 5
}

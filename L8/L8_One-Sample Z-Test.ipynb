{
 "cells": [
  {
   "cell_type": "code",
   "execution_count": 26,
   "id": "d345d435-8f8f-4ad6-a225-60346b785806",
   "metadata": {},
   "outputs": [
    {
     "name": "stdout",
     "output_type": "stream",
     "text": [
      "z ≈ 19.80,p<0.05,Reject H₀; medication affects IQ, likely increasing it (mean = 140 > 100).\n"
     ]
    }
   ],
   "source": [
    "#task 1\n",
    "import numpy as np\n",
    "\n",
    "from statsmodels.stats.weightstats import ztest\n",
    "data = np.random.normal(140, 15, 30)\n",
    "z_score, p_value = ztest(data, value=100)\n",
    "alpha = 0.05\n",
    "if p_value < alpha:\n",
    "    print(f\"z ≈ {z_score:.2f},p<0.05,Reject H₀; medication affects IQ, likely increasing it (mean = 140 > 100).\")\n",
    "else:\n",
    "    print(\"error\")"
   ]
  },
  {
   "cell_type": "code",
   "execution_count": null,
   "id": "6d441253-1de2-429e-9011-58058c91ead3",
   "metadata": {},
   "outputs": [],
   "source": [
    "\n"
   ]
  }
 ],
 "metadata": {
  "kernelspec": {
   "display_name": "Python [conda env:base] *",
   "language": "python",
   "name": "conda-base-py"
  },
  "language_info": {
   "codemirror_mode": {
    "name": "ipython",
    "version": 3
   },
   "file_extension": ".py",
   "mimetype": "text/x-python",
   "name": "python",
   "nbconvert_exporter": "python",
   "pygments_lexer": "ipython3",
   "version": "3.12.4"
  }
 },
 "nbformat": 4,
 "nbformat_minor": 5
}

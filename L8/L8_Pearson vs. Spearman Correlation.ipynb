{
 "cells": [
  {
   "cell_type": "code",
   "execution_count": 8,
   "id": "c7841f61-aa5d-49a7-9e21-2c639ccb45d9",
   "metadata": {},
   "outputs": [
    {
     "name": "stdout",
     "output_type": "stream",
     "text": [
      "Pearson Correlation: 0.83\n",
      "Spearman Correlation: 0.80\n",
      "Pearson ≈ 0.83, Spearman ≈ 0.80, \"Both show positive correlation; Pearson higher due to near-linear relationship.\"\n"
     ]
    }
   ],
   "source": [
    "import numpy as np\n",
    "import scipy.stats as stats\n",
    "height = [160, 170, 180, 175] \n",
    "weight = [60, 70, 75, 65]\n",
    "\n",
    "pearson_r, _ = stats.pearsonr(height, weight)\n",
    "spearman_r, _ = stats.spearmanr(height, weight)\n",
    "\n",
    "print(f\"Pearson Correlation: {pearson_r:.2f}\")\n",
    "print(f\"Spearman Correlation: {spearman_r:.2f}\")\n",
    "if pearson_r > 0 and spearman_r > 0:\n",
    "    print(f\"Pearson ≈ {pearson_r:.2f}, Spearman ≈ {spearman_r:.2f}, \\\"Both show positive correlation; Pearson higher due to near-linear relationship.\\\"\")\n",
    "else:\n",
    "    print(\"error\")"
   ]
  },
  {
   "cell_type": "code",
   "execution_count": null,
   "id": "a186ee31-a86b-4a78-91bc-fe868cdb80c2",
   "metadata": {},
   "outputs": [],
   "source": []
  }
 ],
 "metadata": {
  "kernelspec": {
   "display_name": "Python [conda env:base] *",
   "language": "python",
   "name": "conda-base-py"
  },
  "language_info": {
   "codemirror_mode": {
    "name": "ipython",
    "version": 3
   },
   "file_extension": ".py",
   "mimetype": "text/x-python",
   "name": "python",
   "nbconvert_exporter": "python",
   "pygments_lexer": "ipython3",
   "version": "3.12.4"
  }
 },
 "nbformat": 4,
 "nbformat_minor": 5
}

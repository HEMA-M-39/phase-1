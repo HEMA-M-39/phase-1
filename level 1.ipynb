{
 "cells": [
  {
   "cell_type": "code",
   "execution_count": 50,
   "id": "af250e90-a95d-433c-bec1-e3114475f095",
   "metadata": {},
   "outputs": [
    {
     "data": {
      "text/plain": [
       "'test'"
      ]
     },
     "execution_count": 50,
     "metadata": {},
     "output_type": "execute_result"
    }
   ],
   "source": [
    "print = \"test\"\n",
    "print\n",
    "\n"
   ]
  },
  {
   "cell_type": "code",
   "execution_count": 52,
   "id": "09bf748b-315c-4aeb-9392-7e2db2e0d2d7",
   "metadata": {},
   "outputs": [],
   "source": [
    "del print"
   ]
  },
  {
   "cell_type": "code",
   "execution_count": 54,
   "id": "5a1e7366-743c-49f6-8040-7e32414b8808",
   "metadata": {},
   "outputs": [
    {
     "name": "stdout",
     "output_type": "stream",
     "text": [
      "Hello, Python!\n",
      "5 + 3 = 8\n"
     ]
    }
   ],
   "source": [
    "#task 1 \n",
    "print(\"Hello, Python!\")\n",
    "\n",
    "\n",
    "num1 = 5\n",
    "num2 = 3\n",
    "\n",
    "\n",
    "result = num1 + num2\n",
    "\n",
    "\n",
    "print(f\"{num1} + {num2} = {result}\")\n"
   ]
  },
  {
   "cell_type": "code",
   "execution_count": 70,
   "id": "39b01346-f286-4e17-b922-fbc02e972b9a",
   "metadata": {},
   "outputs": [
    {
     "name": "stdout",
     "output_type": "stream",
     "text": [
      "[1, 2, 3, 4], {2, 4, 6},  (1, 2, 3), {'a': 1, 'b': 2, 'c': 3}\n"
     ]
    }
   ],
   "source": [
    "#task 2 \n",
    "li=[1,2,3]\n",
    "li.append(4)\n",
    "\n",
    "se={2, 4, 6}\n",
    "\n",
    "tu=(1,2,3)\n",
    "\n",
    "dic= {'a':1, 'b':2,}\n",
    "dic['c'] = 3\n",
    "\n",
    "print(f\"{li}, {se},  {tu}, {dic}\")"
   ]
  },
  {
   "cell_type": "code",
   "execution_count": 72,
   "id": "b09cd23e-2781-4d13-ba87-8fc077943f4e",
   "metadata": {},
   "outputs": [
    {
     "name": "stdout",
     "output_type": "stream",
     "text": [
      "Mean: 5.5, Max: 10, Min: 1\n"
     ]
    }
   ],
   "source": [
    "# Task 3: NumPy Array Stats\n",
    "\n",
    "# Step 1: Import the NumPy library with an alias\n",
    "import numpy as np\n",
    "\n",
    "# Step 2: Create an array of consecutive integers from 1 to 10\n",
    "arr = np.arange(1, 11)\n",
    "\n",
    "# Step 3: Calculate the mean of the array\n",
    "mean_value = np.mean(arr)\n",
    "\n",
    "# Step 4: Find the maximum value in the array\n",
    "max_value = np.max(arr)\n",
    "\n",
    "# Step 5: Find the minimum value in the array\n",
    "min_value = np.min(arr)\n",
    "\n",
    "# Step 6: Print all three calculated values with labels\n",
    "print(f\"Mean: {mean_value}, Max: {max_value}, Min: {min_value}\")  # Expected Output: Mean: 5.5, Max: 10, Min: 1\n"
   ]
  },
  {
   "cell_type": "code",
   "execution_count": 74,
   "id": "9f7a2cf0-9cd6-441c-9bf0-42c3d2260a87",
   "metadata": {},
   "outputs": [
    {
     "name": "stdout",
     "output_type": "stream",
     "text": [
      "      name  age\n",
      "0    Alice   30\n",
      "1      Bob   25\n",
      "2  Charlie   35\n",
      "3    David   40\n",
      "4      Eve   29\n",
      "<class 'pandas.core.frame.DataFrame'>\n",
      "RangeIndex: 5 entries, 0 to 4\n",
      "Data columns (total 2 columns):\n",
      " #   Column  Non-Null Count  Dtype \n",
      "---  ------  --------------  ----- \n",
      " 0   name    5 non-null      object\n",
      " 1   age     5 non-null      int64 \n",
      "dtypes: int64(1), object(1)\n",
      "memory usage: 212.0+ bytes\n",
      "None\n"
     ]
    }
   ],
   "source": [
    "# Task 4: Pandas CSV Load\n",
    "\n",
    "# Step 1: Import the Pandas library with an alias\n",
    "import pandas as pd\n",
    "\n",
    "# Step 2: Create a sample CSV file\n",
    "sample_csv = \"\"\"name,age\n",
    "Alice,30\n",
    "Bob,25\n",
    "Charlie,35\n",
    "David,40\n",
    "Eve,29\n",
    "\"\"\"\n",
    "\n",
    "# Save the sample CSV to a file\n",
    "with open(\"sample.csv\", \"w\") as file:\n",
    "    file.write(sample_csv)\n",
    "\n",
    "# Step 3: Read the CSV into a DataFrame\n",
    "df = pd.read_csv(\"sample.csv\")\n",
    "\n",
    "# Step 4: Display the first 5 rows of the DataFrame\n",
    "print(df.head())\n",
    "\n",
    "# Step 5: Print a summary of the DataFrame’s structure and data types\n",
    "print(df.info())\n"
   ]
  },
  {
   "cell_type": "code",
   "execution_count": 76,
   "id": "a5a3a1a2-62c9-42a1-b05f-9c248050a8e1",
   "metadata": {},
   "outputs": [
    {
     "name": "stdin",
     "output_type": "stream",
     "text": [
      "Enter a key (string):  he\n",
      "Enter a value (integer):  2\n",
      "Enter a key (string):  ma\n",
      "Enter a value (integer):  3\n",
      "Enter a key (string):  m\n",
      "Enter a value (integer):  7\n"
     ]
    },
    {
     "name": "stdout",
     "output_type": "stream",
     "text": [
      "Final Dictionary: {'he': 2, 'ma': 3, 'm': 7}\n"
     ]
    }
   ],
   "source": [
    "# Task 5: Dynamic Data Structure\n",
    "\n",
    "# Step 1: Initialize an empty dictionary\n",
    "dynamic_dict = {}\n",
    "\n",
    "# Step 2: Set up a loop to run 3 times\n",
    "for _ in range(3):\n",
    "    # Step 3: Prompt the user for a key (string)\n",
    "    key = input(\"Enter a key (string): \")\n",
    "\n",
    "    # Step 4: Prompt the user for a value (integer) for that key\n",
    "    value = int(input(\"Enter a value (integer): \"))\n",
    "\n",
    "    # Step 5: Add the key-value pair to the dictionary\n",
    "    dynamic_dict[key] = value\n",
    "\n",
    "# Step 6: After the loop, print the completed dictionary\n",
    "print(\"Final Dictionary:\", dynamic_dict)\n"
   ]
  },
  {
   "cell_type": "code",
   "execution_count": 88,
   "id": "3cf2c508-9d0f-4776-9b19-91886a742b5d",
   "metadata": {},
   "outputs": [
    {
     "name": "stdout",
     "output_type": "stream",
     "text": [
      "resulting matrix: [[ 6  8]\n",
      " [10 12]]\n"
     ]
    }
   ],
   "source": [
    "#task 6\n",
    "\n",
    "import numpy as np\n",
    "\n",
    "matrix1 = np.array([[1,2], [3,4]])\n",
    "matrix2 = np.array([[5,6], [7,8]])\n",
    "\n",
    "result= matrix1 + matrix2\n",
    "\n",
    "print(f\"{\"resulting matrix:\"} {result}\")\n",
    "\n"
   ]
  },
  {
   "cell_type": "code",
   "execution_count": null,
   "id": "45b5d65f-18b8-4a4a-8609-84e511a91717",
   "metadata": {},
   "outputs": [],
   "source": []
  }
 ],
 "metadata": {
  "kernelspec": {
   "display_name": "Python [conda env:base] *",
   "language": "python",
   "name": "conda-base-py"
  },
  "language_info": {
   "codemirror_mode": {
    "name": "ipython",
    "version": 3
   },
   "file_extension": ".py",
   "mimetype": "text/x-python",
   "name": "python",
   "nbconvert_exporter": "python",
   "pygments_lexer": "ipython3",
   "version": "3.12.4"
  }
 },
 "nbformat": 4,
 "nbformat_minor": 5
}

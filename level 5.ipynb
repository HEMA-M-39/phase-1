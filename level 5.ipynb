{
 "cells": [
  {
   "cell_type": "code",
   "execution_count": 3,
   "id": "0fe293f4-2d4a-4533-935a-ed898adf43b3",
   "metadata": {},
   "outputs": [
    {
     "name": "stdout",
     "output_type": "stream",
     "text": [
      "--- Personal Budget Summary ---\n",
      "Total Income: 4200\n",
      "Total Expenses: 2200\n",
      "Balance: 2000\n"
     ]
    }
   ],
   "source": [
    "#project1\n",
    "# Step 1: Create dictionaries for income and expenses\n",
    "income = {\n",
    "    \"salary\": 3000,\n",
    "    \"freelance\": 1200\n",
    "}\n",
    "\n",
    "expenses = {\n",
    "    \"rent\": 1200,\n",
    "    \"food\": 500,\n",
    "    \"utilities\": 300,\n",
    "    \"entertainment\": 200\n",
    "}\n",
    "\n",
    "# Step 2: Function to calculate total income\n",
    "def calculate_total_income(income_dict):\n",
    "    return sum(income_dict.values())\n",
    "\n",
    "# Step 3: Function to calculate total expenses\n",
    "def calculate_total_expenses(expense_dict):\n",
    "    return sum(expense_dict.values())\n",
    "\n",
    "# Step 4: Calculate total income and expenses\n",
    "total_income = calculate_total_income(income)\n",
    "total_expenses = calculate_total_expenses(expenses)\n",
    "\n",
    "# Step 5: Compute balance\n",
    "balance = total_income - total_expenses\n",
    "\n",
    "# Step 6: Print formatted summary\n",
    "print(\"--- Personal Budget Summary ---\")\n",
    "print(f\"Total Income: {total_income}\")\n",
    "print(f\"Total Expenses: {total_expenses}\")\n",
    "print(f\"Balance: {balance}\")\n"
   ]
  },
  {
   "cell_type": "code",
   "execution_count": 9,
   "id": "60fa53de-de94-491c-8a4c-8d27f34072a8",
   "metadata": {},
   "outputs": [
    {
     "name": "stdin",
     "output_type": "stream",
     "text": [
      "Enter student 1 name:  pooja\n",
      "Enter pooja's grade (0-100):  99\n",
      "Enter student 2 name:  jesi\n",
      "Enter jesi's grade (0-100):  88\n",
      "Enter student 3 name:  deeps\n",
      "Enter deeps's grade (0-100):  79\n",
      "Enter student 4 name:  jaya\n",
      "Enter jaya's grade (0-100):  56\n",
      "Enter student 5 name:  leela\n",
      "Enter leela's grade (0-100):  59\n"
     ]
    },
    {
     "name": "stdout",
     "output_type": "stream",
     "text": [
      "--- Student Grade Summary ---\n",
      "Average Grade: 76.20\n",
      "Passing Students: 3\n",
      "failed students : 2\n"
     ]
    }
   ],
   "source": [
    "#project 2\n",
    "\n",
    "# Step 1: Initialize an empty list for student grades\n",
    "student_grades = []\n",
    "\n",
    "# Step 2: Collect student names and grades\n",
    "for i in range(5):\n",
    "    name = input(f\"Enter student {i + 1} name: \")\n",
    "    grade = float(input(f\"Enter {name}'s grade (0-100): \"))\n",
    "    student_grades.append((name, grade))\n",
    "\n",
    "# Step 3: Function to calculate average grade\n",
    "def calculate_average(grades):\n",
    "    total = sum(grade for _, grade in grades)\n",
    "    return total / len(grades)\n",
    "\n",
    "# Step 4: Function to count students with grades above 60\n",
    "def count_passing(grades):\n",
    "    return sum(1 for _, grade in grades if grade > 60)\n",
    "\n",
    "def count_fail(grades):\n",
    "     return sum(1 for _, grade in grades if grade < 60)\n",
    "\n",
    "# Step 5: Calculate average and passing count\n",
    "average_grade = calculate_average(student_grades)\n",
    "passing_count = count_passing(student_grades)\n",
    "fail_count = count_fail(student_grades)\n",
    "\n",
    "# Step 6: Print results\n",
    "print(\"--- Student Grade Summary ---\")\n",
    "print(f\"Average Grade: {average_grade:.2f}\")\n",
    "print(f\"Passing Students: {passing_count}\")\n",
    "print(f\"failed students : {fail_count}\")"
   ]
  },
  {
   "cell_type": "code",
   "execution_count": 13,
   "id": "e41b632d-0492-4067-9e44-4985f57b9b24",
   "metadata": {},
   "outputs": [
    {
     "name": "stdout",
     "output_type": "stream",
     "text": [
      "--- Summary Statistics ---\n",
      "              Age        Fare\n",
      "count  332.000000  417.000000\n",
      "mean    30.272590   35.627188\n",
      "std     14.181209   55.907576\n",
      "min      0.170000    0.000000\n",
      "25%     21.000000    7.895800\n",
      "50%     27.000000   14.454200\n",
      "75%     39.000000   31.500000\n",
      "max     76.000000  512.329200\n"
     ]
    },
    {
     "data": {
      "image/png": "[encoded data removed]",
      "text/plain": [
       "<Figure size 640x480 with 1 Axes>"
      ]
     },
     "metadata": {},
     "output_type": "display_data"
    }
   ],
   "source": [
    "#project 3\n",
    "import pandas as pd\n",
    "import seaborn as sns\n",
    "import matplotlib.pyplot as plt\n",
    "\n",
    "\n",
    "data = pd.read_csv(\"tested.csv\")\n",
    "\n",
    "\n",
    "# Step 3: Calculate summary statistics\n",
    "summary_stats = data[['Age', 'Fare']].describe()\n",
    "print(\"--- Summary Statistics ---\")\n",
    "print(summary_stats)\n",
    "\n",
    "# Step 4: Group by passenger class and compute survival rates\n",
    "survival_rates = data.groupby('Pclass')['Survived'].mean().reset_index()\n",
    "\n",
    "# Step 5: Create a bar chart using Seaborn\n",
    "sns.barplot(x='Pclass', y='Survived', data=survival_rates)\n",
    "plt.title('Survival Rates by Passenger Class')\n",
    "plt.xlabel('Passenger Class')\n",
    "plt.ylabel('Survival Rate')\n",
    "\n",
    "# Step 6: Display the chart\n",
    "plt.show()\n",
    "\n"
   ]
  },
  {
   "cell_type": "code",
   "execution_count": 15,
   "id": "c3d98915-df44-4128-b298-781ef3c4fbfa",
   "metadata": {},
   "outputs": [
    {
     "name": "stdin",
     "output_type": "stream",
     "text": [
      "Enter a short text message:  Hello all!, This is ME\n"
     ]
    },
    {
     "name": "stdout",
     "output_type": "stream",
     "text": [
      "SHA256 Hash: 4169feee6aac76235ff6be72ebb8a31ab16a7c2db6e6309d403801250382787c\n"
     ]
    }
   ],
   "source": [
    "#project 4\n",
    "# Step 1: Import necessary libraries\n",
    "import hashlib\n",
    "\n",
    "# Step 2: Prompt user for input\n",
    "message = input(\"Enter a short text message: \")\n",
    "\n",
    "# Step 3: Write the message to a file\n",
    "with open(\"message.txt\", \"w\") as file:\n",
    "    file.write(message)\n",
    "\n",
    "# Step 4: Read the message back from the file\n",
    "with open(\"message.txt\", \"r\") as file:\n",
    "    content = file.read()\n",
    "\n",
    "# Step 5: Encode the content and generate SHA256 hash\n",
    "encoded_content = content.encode('utf-8')\n",
    "hash_object = hashlib.sha256(encoded_content)\n",
    "hash_value = hash_object.hexdigest()\n",
    "\n",
    "# Step 6: Save the hash to a new file\n",
    "with open(\"encrypted.txt\", \"w\") as file:\n",
    "    file.write(hash_value)\n",
    "\n",
    "# Step 7: Print the hash value\n",
    "print(\"SHA256 Hash:\", hash_value)\n"
   ]
  },
  {
   "cell_type": "code",
   "execution_count": 27,
   "id": "4125fdff-4235-4933-940f-277fba284731",
   "metadata": {},
   "outputs": [
    {
     "name": "stdout",
     "output_type": "stream",
     "text": [
      "--- Summary Statistics ---\n",
      "              price      sqft_lot\n",
      "count  4.600000e+03  4.600000e+03\n",
      "mean   5.519630e+05  1.485252e+04\n",
      "std    5.638347e+05  3.588444e+04\n",
      "min    0.000000e+00  6.380000e+02\n",
      "25%    3.228750e+05  5.000750e+03\n",
      "50%    4.609435e+05  7.683000e+03\n",
      "75%    6.549625e+05  1.100125e+04\n",
      "max    2.659000e+07  1.074218e+06\n",
      "\n",
      "--- Updated DataFrame ---\n",
      "                  date      price  bedrooms  bathrooms  sqft_living  sqft_lot  \\\n",
      "0  2014-05-02 00:00:00   313000.0       3.0       1.50         1340      7912   \n",
      "1  2014-05-02 00:00:00  2384000.0       5.0       2.50         3650      9050   \n",
      "2  2014-05-02 00:00:00   342000.0       3.0       2.00         1930     11947   \n",
      "3  2014-05-02 00:00:00   420000.0       3.0       2.25         2000      8030   \n",
      "4  2014-05-02 00:00:00   550000.0       4.0       2.50         1940     10500   \n",
      "\n",
      "   floors  waterfront  view  condition  sqft_above  sqft_basement  yr_built  \\\n",
      "0     1.5           0     0          3        1340              0      1955   \n",
      "1     2.0           0     4          5        3370            280      1921   \n",
      "2     1.0           0     0          4        1930              0      1966   \n",
      "3     1.0           0     0          4        1000           1000      1963   \n",
      "4     1.0           0     0          4        1140            800      1976   \n",
      "\n",
      "   yr_renovated                    street       city  statezip country  \\\n",
      "0          2005      18810 Densmore Ave N  Shoreline  WA 98133     USA   \n",
      "1             0           709 W Blaine St    Seattle  WA 98119     USA   \n",
      "2             0  26206-26214 143rd Ave SE       Kent  WA 98042     USA   \n",
      "3             0           857 170th Pl NE   Bellevue  WA 98008     USA   \n",
      "4          1992         9105 170th Ave NE    Redmond  WA 98052     USA   \n",
      "\n",
      "   price_per_sqft  \n",
      "0       39.560162  \n",
      "1      263.425414  \n",
      "2       28.626433  \n",
      "3       52.303861  \n",
      "4       52.380952  \n"
     ]
    },
    {
     "data": {
      "image/png": "[encoded data removed]",
      "text/plain": [
       "<Figure size 640x480 with 1 Axes>"
      ]
     },
     "metadata": {},
     "output_type": "display_data"
    }
   ],
   "source": [
    "#project 5\n",
    "# Step 1: Import necessary libraries\n",
    "import pandas as pd\n",
    "import matplotlib.pyplot as plt\n",
    "\n",
    "# Step 2: Load house price dataset\n",
    "data = pd.read_csv('data.csv')\n",
    "\n",
    "# Step 3: Calculate summary statistics for price and square footage\n",
    "summary_stats = data[['price', 'sqft_lot']].describe()\n",
    "print(\"--- Summary Statistics ---\")\n",
    "print(summary_stats)\n",
    "\n",
    "# Step 4: Create a new feature (price per square foot)\n",
    "data['price_per_sqft'] = data['price'] / data['sqft_lot']\n",
    "\n",
    "# Step 5: Display the updated DataFrame's first 5 rows\n",
    "print(\"\\n--- Updated DataFrame ---\")\n",
    "print(data.head())\n",
    "\n",
    "# Step 6: Create a scatter plot of price vs. square footage\n",
    "plt.scatter(data['sqft_lot'], data['price'], alpha=0.7)\n",
    "plt.title('House Price vs. Square Footage')\n",
    "plt.xlabel('Square Footage')\n",
    "plt.ylabel('Price')\n",
    "plt.grid(True)\n",
    "\n",
    "# Step 7: Display the plot\n",
    "plt.show()\n"
   ]
  },
  {
   "cell_type": "code",
   "execution_count": 29,
   "id": "b4ebcd87-7611-4a98-96fe-d05550a4dbf6",
   "metadata": {},
   "outputs": [
    {
     "name": "stdout",
     "output_type": "stream",
     "text": [
      "Processing complete. Check 'processing.log' for details.\n"
     ]
    }
   ],
   "source": [
    "#project 6\n",
    "# Step 1: Import necessary libraries\n",
    "import threading\n",
    "import logging\n",
    "import pandas as pd\n",
    "\n",
    "# Step 2: Configure logging\n",
    "logging.basicConfig(filename='processing.log', level=logging.INFO, format='%(asctime)s - %(message)s')\n",
    "\n",
    "# Step 3: Define a function to process CSV and calculate mean\n",
    "def calculate_mean(file_path, column_name):\n",
    "    logging.info(f\"Started processing {file_path}\")\n",
    "    try:\n",
    "        data = pd.read_csv(file_path)\n",
    "        mean_value = data[column_name].mean()\n",
    "        print(f\"Mean for {file_path}: {mean_value}\")\n",
    "    except Exception as e:\n",
    "        logging.error(f\"Error processing {file_path}: {e}\")\n",
    "    finally:\n",
    "        logging.info(f\"Finished processing {file_path}\")\n",
    "\n",
    "# Step 4: Create threads to process multiple CSV files\n",
    "file1 = \"data.csv\"\n",
    "file2 = \"realest.csv\"\n",
    "column_to_process = \"value\"\n",
    "\n",
    "thread1 = threading.Thread(target=calculate_mean, args=(file1, column_to_process))\n",
    "thread2 = threading.Thread(target=calculate_mean, args=(file2, column_to_process))\n",
    "\n",
    "# Step 5: Start both threads\n",
    "thread1.start()\n",
    "thread2.start()\n",
    "\n",
    "# Step 6: Wait for both threads to complete\n",
    "thread1.join()\n",
    "thread2.join()\n",
    "\n",
    "print(\"Processing complete. Check 'processing.log' for details.\")\n",
    "\n"
   ]
  },
  {
   "cell_type": "code",
   "execution_count": 31,
   "id": "ae915cfa-d403-4b69-85b8-8d5dede036ef",
   "metadata": {},
   "outputs": [
    {
     "name": "stdout",
     "output_type": "stream",
     "text": [
      "\n",
      "Options:\n",
      "1. Display statistics\n",
      "2. Plot histogram\n",
      "3. Exit\n"
     ]
    },
    {
     "name": "stdin",
     "output_type": "stream",
     "text": [
      "Enter your choice:  2\n"
     ]
    },
    {
     "data": {
      "image/png": "[encoded data removed]",
      "text/plain": [
       "<Figure size 640x480 with 1 Axes>"
      ]
     },
     "metadata": {},
     "output_type": "display_data"
    },
    {
     "name": "stdout",
     "output_type": "stream",
     "text": [
      "\n",
      "Options:\n",
      "1. Display statistics\n",
      "2. Plot histogram\n",
      "3. Exit\n"
     ]
    },
    {
     "name": "stdin",
     "output_type": "stream",
     "text": [
      "Enter your choice:  1\n"
     ]
    },
    {
     "name": "stdout",
     "output_type": "stream",
     "text": [
      "Mean: 551962.9884732141, Max: 26590000.0, Min: 0.0\n",
      "\n",
      "Options:\n",
      "1. Display statistics\n",
      "2. Plot histogram\n",
      "3. Exit\n"
     ]
    },
    {
     "name": "stdin",
     "output_type": "stream",
     "text": [
      "Enter your choice:  3\n"
     ]
    },
    {
     "name": "stdout",
     "output_type": "stream",
     "text": [
      "Exiting the program.\n"
     ]
    }
   ],
   "source": [
    "#proj 7\n",
    "# Step 1: Import necessary libraries\n",
    "import pandas as pd\n",
    "import matplotlib.pyplot as plt\n",
    "from dataclasses import dataclass\n",
    "\n",
    "# Step 2: Define a data class for dataset statistics\n",
    "@dataclass\n",
    "class DatasetStats:\n",
    "    mean: float\n",
    "    max: float\n",
    "    min: float\n",
    "\n",
    "    def plot_histogram(self, data, column_name):\n",
    "        plt.hist(data[column_name], bins=20, color='skyblue', edgecolor='black')\n",
    "        plt.title(f\"Histogram of {column_name}\")\n",
    "        plt.xlabel(column_name)\n",
    "        plt.ylabel(\"Frequency\")\n",
    "        plt.show()\n",
    "\n",
    "# Step 3: Load dataset into a DataFrame\n",
    "file_path = \"data.csv\"\n",
    "df = pd.read_csv(file_path)\n",
    "\n",
    "# Step 4: Create an instance of DatasetStats\n",
    "price_stats = DatasetStats(mean=df['price'].mean(), max=df['price'].max(), min=df['price'].min())\n",
    "\n",
    "# Step 5: Define a console menu to interact with the dashboard\n",
    "def menu():\n",
    "    while True:\n",
    "        print(\"\\nOptions:\")\n",
    "        print(\"1. Display statistics\")\n",
    "        print(\"2. Plot histogram\")\n",
    "        print(\"3. Exit\")\n",
    "\n",
    "        choice = input(\"Enter your choice: \")\n",
    "\n",
    "        if choice == '1':\n",
    "            print(f\"Mean: {price_stats.mean}, Max: {price_stats.max}, Min: {price_stats.min}\")\n",
    "        elif choice == '2':\n",
    "            price_stats.plot_histogram(df, 'price')\n",
    "        elif choice == '3':\n",
    "            print(\"Exiting the program.\")\n",
    "            break\n",
    "        else:\n",
    "            print(\"Invalid option. Please try again.\")\n",
    "\n",
    "# Step 6: Run the interactive dashboard\n",
    "menu()\n"
   ]
  },
  {
   "cell_type": "code",
   "execution_count": null,
   "id": "adebcb5c-30b4-4f74-a35f-3844cdfd36c2",
   "metadata": {},
   "outputs": [],
   "source": []
  }
 ],
 "metadata": {
  "kernelspec": {
   "display_name": "Python [conda env:base] *",
   "language": "python",
   "name": "conda-base-py"
  },
  "language_info": {
   "codemirror_mode": {
    "name": "ipython",
    "version": 3
   },
   "file_extension": ".py",
   "mimetype": "text/x-python",
   "name": "python",
   "nbconvert_exporter": "python",
   "pygments_lexer": "ipython3",
   "version": "3.12.4"
  }
 },
 "nbformat": 4,
 "nbformat_minor": 5
}

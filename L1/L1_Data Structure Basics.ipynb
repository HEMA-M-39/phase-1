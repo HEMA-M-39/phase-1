{
 "cells": [
  {
   "cell_type": "code",
   "execution_count": 3,
   "id": "f3dc1567-8151-442b-8d3f-2c72e093b9f1",
   "metadata": {},
   "outputs": [
    {
     "name": "stdout",
     "output_type": "stream",
     "text": [
      "[1, 2, 3, 4], {2, 4, 6},  (1, 2, 3), {'a': 1, 'b': 2, 'c': 3}\n"
     ]
    }
   ],
   "source": [
    "#task 2 \n",
    "li=[1,2,3]\n",
    "li.append(4)\n",
    "\n",
    "se={2, 4, 6}\n",
    "\n",
    "tu=(1,2,3)\n",
    "\n",
    "dic= {'a':1, 'b':2,}\n",
    "dic['c'] = 3\n",
    "\n",
    "print(f\"{li}, {se},  {tu}, {dic}\")"
   ]
  },
  {
   "cell_type": "code",
   "execution_count": null,
   "id": "e68d1f82-a510-4948-a6d3-4dd0d25d1187",
   "metadata": {},
   "outputs": [],
   "source": []
  }
 ],
 "metadata": {
  "kernelspec": {
   "display_name": "Python [conda env:base] *",
   "language": "python",
   "name": "conda-base-py"
  },
  "language_info": {
   "codemirror_mode": {
    "name": "ipython",
    "version": 3
   },
   "file_extension": ".py",
   "mimetype": "text/x-python",
   "name": "python",
   "nbconvert_exporter": "python",
   "pygments_lexer": "ipython3",
   "version": "3.12.4"
  }
 },
 "nbformat": 4,
 "nbformat_minor": 5
}

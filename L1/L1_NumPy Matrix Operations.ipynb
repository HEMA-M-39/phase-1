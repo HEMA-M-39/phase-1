{
 "cells": [
  {
   "cell_type": "code",
   "execution_count": 1,
   "id": "9f23d209-0079-4005-9fa8-ec7d76a0cbad",
   "metadata": {},
   "outputs": [
    {
     "name": "stdout",
     "output_type": "stream",
     "text": [
      "resulting matrix: [[ 6  8]\n",
      " [10 12]]\n"
     ]
    }
   ],
   "source": [
    "#task 6\n",
    "\n",
    "import numpy as np\n",
    "\n",
    "matrix1 = np.array([[1,2], [3,4]])\n",
    "matrix2 = np.array([[5,6], [7,8]])\n",
    "\n",
    "result= matrix1 + matrix2\n",
    "\n",
    "print(f\"{\"resulting matrix:\"} {result}\")\n",
    "\n"
   ]
  },
  {
   "cell_type": "code",
   "execution_count": null,
   "id": "29919dcf-fb22-48fc-a97f-28bcba780743",
   "metadata": {},
   "outputs": [],
   "source": []
  }
 ],
 "metadata": {
  "kernelspec": {
   "display_name": "Python [conda env:base] *",
   "language": "python",
   "name": "conda-base-py"
  },
  "language_info": {
   "codemirror_mode": {
    "name": "ipython",
    "version": 3
   },
   "file_extension": ".py",
   "mimetype": "text/x-python",
   "name": "python",
   "nbconvert_exporter": "python",
   "pygments_lexer": "ipython3",
   "version": "3.12.4"
  }
 },
 "nbformat": 4,
 "nbformat_minor": 5
}

{
 "cells": [
  {
   "cell_type": "code",
   "execution_count": 50,
   "id": "af250e90-a95d-433c-bec1-e3114475f095",
   "metadata": {},
   "outputs": [
    {
     "data": {
      "text/plain": [
       "'test'"
      ]
     },
     "execution_count": 50,
     "metadata": {},
     "output_type": "execute_result"
    }
   ],
   "source": [
    "print = \"test\"\n",
    "print\n",
    "\n"
   ]
  },
  {
   "cell_type": "code",
   "execution_count": 52,
   "id": "09bf748b-315c-4aeb-9392-7e2db2e0d2d7",
   "metadata": {},
   "outputs": [],
   "source": [
    "del print"
   ]
  },
  {
   "cell_type": "code",
   "execution_count": 54,
   "id": "5a1e7366-743c-49f6-8040-7e32414b8808",
   "metadata": {},
   "outputs": [
    {
     "name": "stdout",
     "output_type": "stream",
     "text": [
      "Hello, Python!\n",
      "5 + 3 = 8\n"
     ]
    }
   ],
   "source": [
    "#task 1 \n",
    "print(\"Hello, Python!\")\n",
    "\n",
    "\n",
    "num1 = 5\n",
    "num2 = 3\n",
    "\n",
    "\n",
    "result = num1 + num2\n",
    "\n",
    "\n",
    "print(f\"{num1} + {num2} = {result}\")\n"
   ]
  },
  {
   "cell_type": "code",
   "execution_count": null,
   "id": "45b5d65f-18b8-4a4a-8609-84e511a91717",
   "metadata": {},
   "outputs": [],
   "source": []
  }
 ],
 "metadata": {
  "kernelspec": {
   "display_name": "Python [conda env:base] *",
   "language": "python",
   "name": "conda-base-py"
  },
  "language_info": {
   "codemirror_mode": {
    "name": "ipython",
    "version": 3
   },
   "file_extension": ".py",
   "mimetype": "text/x-python",
   "name": "python",
   "nbconvert_exporter": "python",
   "pygments_lexer": "ipython3",
   "version": "3.12.4"
  }
 },
 "nbformat": 4,
 "nbformat_minor": 5
}

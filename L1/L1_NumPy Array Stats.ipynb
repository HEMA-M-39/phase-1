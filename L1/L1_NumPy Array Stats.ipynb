{
 "cells": [
  {
   "cell_type": "code",
   "execution_count": 1,
   "id": "b3e8d327-28dd-4892-a51a-e186434e3f8d",
   "metadata": {},
   "outputs": [
    {
     "name": "stdout",
     "output_type": "stream",
     "text": [
      "Mean: 5.5, Max: 10, Min: 1\n"
     ]
    }
   ],
   "source": [
    "# Task 3: NumPy Array Stats\n",
    "\n",
    "# Step 1: Import the NumPy library with an alias\n",
    "import numpy as np\n",
    "\n",
    "# Step 2: Create an array of consecutive integers from 1 to 10\n",
    "arr = np.arange(1, 11)\n",
    "\n",
    "# Step 3: Calculate the mean of the array\n",
    "mean_value = np.mean(arr)\n",
    "\n",
    "# Step 4: Find the maximum value in the array\n",
    "max_value = np.max(arr)\n",
    "\n",
    "# Step 5: Find the minimum value in the array\n",
    "min_value = np.min(arr)\n",
    "\n",
    "# Step 6: Print all three calculated values with labels\n",
    "print(f\"Mean: {mean_value}, Max: {max_value}, Min: {min_value}\") "
   ]
  },
  {
   "cell_type": "code",
   "execution_count": null,
   "id": "1dd9c928-5847-418b-8c1b-54cf0b8e63c9",
   "metadata": {},
   "outputs": [],
   "source": []
  }
 ],
 "metadata": {
  "kernelspec": {
   "display_name": "Python [conda env:base] *",
   "language": "python",
   "name": "conda-base-py"
  },
  "language_info": {
   "codemirror_mode": {
    "name": "ipython",
    "version": 3
   },
   "file_extension": ".py",
   "mimetype": "text/x-python",
   "name": "python",
   "nbconvert_exporter": "python",
   "pygments_lexer": "ipython3",
   "version": "3.12.4"
  }
 },
 "nbformat": 4,
 "nbformat_minor": 5
}

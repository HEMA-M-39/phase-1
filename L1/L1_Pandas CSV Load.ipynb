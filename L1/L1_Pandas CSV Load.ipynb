{
 "cells": [
  {
   "cell_type": "code",
   "execution_count": 3,
   "id": "f7d99aeb-76f9-43ca-b648-614941fa7dbd",
   "metadata": {},
   "outputs": [
    {
     "name": "stdout",
     "output_type": "stream",
     "text": [
      "      name  age\n",
      "0    Alice   30\n",
      "1      Bob   25\n",
      "2  Charlie   35\n",
      "3    David   40\n",
      "4      Eve   29\n",
      "<class 'pandas.core.frame.DataFrame'>\n",
      "RangeIndex: 5 entries, 0 to 4\n",
      "Data columns (total 2 columns):\n",
      " #   Column  Non-Null Count  Dtype \n",
      "---  ------  --------------  ----- \n",
      " 0   name    5 non-null      object\n",
      " 1   age     5 non-null      int64 \n",
      "dtypes: int64(1), object(1)\n",
      "memory usage: 212.0+ bytes\n",
      "None\n"
     ]
    }
   ],
   "source": [
    "# Task 4: Pandas CSV Load\n",
    "\n",
    "# Step 1: Import the Pandas library with an alias\n",
    "import pandas as pd\n",
    "\n",
    "# Step 2: Create a sample CSV file\n",
    "sample_csv = \"\"\"name,age\n",
    "Alice,30\n",
    "Bob,25\n",
    "Charlie,35\n",
    "David,40\n",
    "Eve,29\n",
    "\"\"\"\n",
    "\n",
    "# Save the sample CSV to a file\n",
    "with open(\"sample.csv\", \"w\") as file:\n",
    "    file.write(sample_csv)\n",
    "\n",
    "# Step 3: Read the CSV into a DataFrame\n",
    "df = pd.read_csv(\"sample.csv\")\n",
    "\n",
    "# Step 4: Display the first 5 rows of the DataFrame\n",
    "print(df.head())\n",
    "\n",
    "# Step 5: Print a summary of the DataFrame’s structure and data types\n",
    "print(df.info())\n"
   ]
  },
  {
   "cell_type": "code",
   "execution_count": null,
   "id": "8a359e1c-3e2f-48f3-aab7-7aaf201cceba",
   "metadata": {},
   "outputs": [],
   "source": []
  }
 ],
 "metadata": {
  "kernelspec": {
   "display_name": "Python [conda env:base] *",
   "language": "python",
   "name": "conda-base-py"
  },
  "language_info": {
   "codemirror_mode": {
    "name": "ipython",
    "version": 3
   },
   "file_extension": ".py",
   "mimetype": "text/x-python",
   "name": "python",
   "nbconvert_exporter": "python",
   "pygments_lexer": "ipython3",
   "version": "3.12.4"
  }
 },
 "nbformat": 4,
 "nbformat_minor": 5
}

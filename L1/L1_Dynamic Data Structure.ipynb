{
 "cells": [
  {
   "cell_type": "code",
   "execution_count": 1,
   "id": "07912d22-050b-49fa-8d9f-f3d18ce58ac2",
   "metadata": {},
   "outputs": [
    {
     "name": "stdin",
     "output_type": "stream",
     "text": [
      "Enter a key (string):  POOJA\n",
      "Enter a value (integer):  99\n",
      "Enter a key (string):  JESI\n",
      "Enter a value (integer):  85\n",
      "Enter a key (string):  DEEPIKA\n",
      "Enter a value (integer):  77\n"
     ]
    },
    {
     "name": "stdout",
     "output_type": "stream",
     "text": [
      "Final Dictionary: {'POOJA': 99, 'JESI': 85, 'DEEPIKA': 77}\n"
     ]
    }
   ],
   "source": [
    "# Task 5: Dynamic Data Structure\n",
    "\n",
    "# Step 1: Initialize an empty dictionary\n",
    "dynamic_dict = {}\n",
    "\n",
    "# Step 2: Set up a loop to run 3 times\n",
    "for _ in range(3):\n",
    "    # Step 3: Prompt the user for a key (string)\n",
    "    key = input(\"Enter a key (string): \")\n",
    "\n",
    "    # Step 4: Prompt the user for a value (integer) for that key\n",
    "    value = int(input(\"Enter a value (integer): \"))\n",
    "\n",
    "    # Step 5: Add the key-value pair to the dictionary\n",
    "    dynamic_dict[key] = value\n",
    "\n",
    "# Step 6: After the loop, print the completed dictionary\n",
    "print(\"Final Dictionary:\", dynamic_dict)"
   ]
  },
  {
   "cell_type": "code",
   "execution_count": null,
   "id": "691c89a8-c900-4056-9b25-c3afd2d95b0e",
   "metadata": {},
   "outputs": [],
   "source": []
  }
 ],
 "metadata": {
  "kernelspec": {
   "display_name": "Python [conda env:base] *",
   "language": "python",
   "name": "conda-base-py"
  },
  "language_info": {
   "codemirror_mode": {
    "name": "ipython",
    "version": 3
   },
   "file_extension": ".py",
   "mimetype": "text/x-python",
   "name": "python",
   "nbconvert_exporter": "python",
   "pygments_lexer": "ipython3",
   "version": "3.12.4"
  }
 },
 "nbformat": 4,
 "nbformat_minor": 5
}

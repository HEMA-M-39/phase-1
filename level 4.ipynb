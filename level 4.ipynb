{
 "cells": [
  {
   "cell_type": "code",
   "execution_count": 3,
   "id": "e5d9e043-3f5a-42a3-a214-b1133bf82dab",
   "metadata": {},
   "outputs": [
    {
     "name": "stdout",
     "output_type": "stream",
     "text": [
      "Descriptive Statistics:\n",
      "               price     bedrooms    bathrooms   sqft_living      sqft_lot  \\\n",
      "count  4.600000e+03  4600.000000  4600.000000   4600.000000  4.600000e+03   \n",
      "mean   5.519630e+05     3.400870     2.160815   2139.346957  1.485252e+04   \n",
      "std    5.638347e+05     0.908848     0.783781    963.206916  3.588444e+04   \n",
      "min    0.000000e+00     0.000000     0.000000    370.000000  6.380000e+02   \n",
      "25%    3.228750e+05     3.000000     1.750000   1460.000000  5.000750e+03   \n",
      "50%    4.609435e+05     3.000000     2.250000   1980.000000  7.683000e+03   \n",
      "75%    6.549625e+05     4.000000     2.500000   2620.000000  1.100125e+04   \n",
      "max    2.659000e+07     9.000000     8.000000  13540.000000  1.074218e+06   \n",
      "\n",
      "            floors   waterfront         view    condition   sqft_above  \\\n",
      "count  4600.000000  4600.000000  4600.000000  4600.000000  4600.000000   \n",
      "mean      1.512065     0.007174     0.240652     3.451739  1827.265435   \n",
      "std       0.538288     0.084404     0.778405     0.677230   862.168977   \n",
      "min       1.000000     0.000000     0.000000     1.000000   370.000000   \n",
      "25%       1.000000     0.000000     0.000000     3.000000  1190.000000   \n",
      "50%       1.500000     0.000000     0.000000     3.000000  1590.000000   \n",
      "75%       2.000000     0.000000     0.000000     4.000000  2300.000000   \n",
      "max       3.500000     1.000000     4.000000     5.000000  9410.000000   \n",
      "\n",
      "       sqft_basement     yr_built  yr_renovated  \n",
      "count    4600.000000  4600.000000   4600.000000  \n",
      "mean      312.081522  1970.786304    808.608261  \n",
      "std       464.137228    29.731848    979.414536  \n",
      "min         0.000000  1900.000000      0.000000  \n",
      "25%         0.000000  1951.000000      0.000000  \n",
      "50%         0.000000  1976.000000      0.000000  \n",
      "75%       610.000000  1997.000000   1999.000000  \n",
      "max      4820.000000  2014.000000   2014.000000  \n"
     ]
    }
   ],
   "source": [
    "#task 1\n",
    "\n",
    "import pandas as pd\n",
    "file_path = 'data.csv'\n",
    "df = pd.read_csv(file_path)\n",
    "\n",
    "stats = df.describe()\n",
    "print(\"Descriptive Statistics:\\n\", stats)"
   ]
  },
  {
   "cell_type": "code",
   "execution_count": 19,
   "id": "d6f3af79-f3da-4ee5-b058-61fbfc48267e",
   "metadata": {},
   "outputs": [
    {
     "name": "stdout",
     "output_type": "stream",
     "text": [
      "Requirement already satisfied: PyPDF2 in d:\\anaconda\\lib\\site-packages (3.0.1)\n",
      "PDF successfully encrypted and saved as 'output.pdf'.\n"
     ]
    }
   ],
   "source": [
    "#task 2\n",
    "\n",
    "!pip install  PyPDF2\n",
    "\n",
    "from PyPDF2 import  PdfReader, PdfWriter\n",
    "reader = PdfReader(\"MY_RESUME.pdf\")\n",
    "\n",
    "writer =  PdfWriter()\n",
    "for page in reader.pages:\n",
    "    writer.add_page(page)\n",
    "\n",
    "writer.encrypt(\"143929\")\n",
    "\n",
    "# Write the encrypted content to a new PDF\n",
    "with open(\"output.pdf\", \"wb\") as output_file:\n",
    "    writer.write(output_file)\n",
    "\n",
    "\n",
    "print(\"PDF successfully encrypted and saved as 'output.pdf'.\")    \n"
   ]
  },
  {
   "cell_type": "code",
   "execution_count": 35,
   "id": "19eacc64-9725-41eb-8e48-9d27491b030d",
   "metadata": {},
   "outputs": [
    {
     "name": "stdout",
     "output_type": "stream",
     "text": [
      "Columns in dataset: Index(['date', 'price', 'bedrooms', 'bathrooms', 'sqft_living', 'sqft_lot',\n",
      "       'floors', 'waterfront', 'view', 'condition', 'sqft_above',\n",
      "       'sqft_basement', 'yr_built', 'yr_renovated', 'street', 'city',\n",
      "       'statezip', 'country'],\n",
      "      dtype='object')\n",
      "                  date      price  bedrooms  bathrooms  sqft_living  sqft_lot  \\\n",
      "0  2014-05-02 00:00:00   313000.0       3.0       1.50         1340      7912   \n",
      "1  2014-05-02 00:00:00  2384000.0       5.0       2.50         3650      9050   \n",
      "2  2014-05-02 00:00:00   342000.0       3.0       2.00         1930     11947   \n",
      "3  2014-05-02 00:00:00   420000.0       3.0       2.25         2000      8030   \n",
      "4  2014-05-02 00:00:00   550000.0       4.0       2.50         1940     10500   \n",
      "\n",
      "   floors  waterfront  view  condition  sqft_above  sqft_basement  yr_built  \\\n",
      "0     1.5           0     0          3        1340              0      1955   \n",
      "1     2.0           0     4          5        3370            280      1921   \n",
      "2     1.0           0     0          4        1930              0      1966   \n",
      "3     1.0           0     0          4        1000           1000      1963   \n",
      "4     1.0           0     0          4        1140            800      1976   \n",
      "\n",
      "   yr_renovated                    street       city  statezip country  \\\n",
      "0          2005      18810 Densmore Ave N  Shoreline  WA 98133     USA   \n",
      "1             0           709 W Blaine St    Seattle  WA 98119     USA   \n",
      "2             0  26206-26214 143rd Ave SE       Kent  WA 98042     USA   \n",
      "3             0           857 170th Pl NE   Bellevue  WA 98008     USA   \n",
      "4          1992         9105 170th Ave NE    Redmond  WA 98052     USA   \n",
      "\n",
      "   price_per_sqft  \n",
      "0      233.582090  \n",
      "1      707.418398  \n",
      "2      177.202073  \n",
      "3      420.000000  \n",
      "4      482.456140  \n"
     ]
    }
   ],
   "source": [
    "#task 3\n",
    "import pandas as pd\n",
    "\n",
    "# Step 3: Load the House Price dataset\n",
    "\n",
    "df = pd.read_csv('data.csv')\n",
    "\n",
    "print(\"Columns in dataset:\", df.columns)\n",
    "\n",
    "# Step 5: Create a new column 'price_per_sqft'\n",
    "df['price_per_sqft'] = df['price'] / df['sqft_above']\n",
    "print(df.head())\n",
    "\n"
   ]
  },
  {
   "cell_type": "code",
   "execution_count": 37,
   "id": "f62bcf33-b6a9-47c6-8f8e-7a8e7676119d",
   "metadata": {},
   "outputs": [
    {
     "name": "stdout",
     "output_type": "stream",
     "text": [
      "[1, 2, 3]\n",
      "['A', 'B', 'C']\n"
     ]
    }
   ],
   "source": [
    "#task 4\n",
    "\n",
    "import threading\n",
    "def print_numbers():\n",
    "    print([1, 2, 3])\n",
    "\n",
    "# Define a second function that prints a list of 3 letters\n",
    "def print_letters():\n",
    "    print([\"A\", \"B\", \"C\"])\n",
    "\n",
    "# Create a thread object for the first function\n",
    "thread1 = threading.Thread(target=print_numbers)\n",
    "\n",
    "#  Create a second thread object for the second function\n",
    "thread2 = threading.Thread(target=print_letters)\n",
    "\n",
    "# Start both threads to run the functions concurrently\n",
    "thread1.start()\n",
    "thread2.start()\n",
    "\n",
    "#  Ensure both threads complete before the program ends\n",
    "thread1.join()\n",
    "thread2.join()"
   ]
  },
  {
   "cell_type": "code",
   "execution_count": 59,
   "id": "3e6cdd04-3cf2-4f24-8598-82283b0f293a",
   "metadata": {},
   "outputs": [
    {
     "name": "stdout",
     "output_type": "stream",
     "text": [
      "Log: Script execution started.\n",
      "Log: Feature engineering task completed.\n",
      "INFO:root:Script has started.\n",
      "INFO:root:Task completed successfully.\n",
      "INFO:root:Script has started.\n",
      "INFO:root:Task completed successfully.\n",
      "INFO:root:Script execution started.\n",
      "INFO:root:Feature engineering task completed.\n",
      "INFO:root:Script execution started.\n",
      "INFO:root:Feature engineering task completed.\n",
      "INFO:root:Script execution started.\n",
      "INFO:root:Feature engineering task completed.\n",
      "INFO:root:This is an info message\n",
      "WARNING:root:This is an warning message\n",
      "CRITICAL:root:This is a critical message\n",
      "ERROR:root:This is a error message\n",
      "INFO:root:Script execution started.\n",
      "INFO:root:Feature engineering task completed.\n",
      "INFO:root:Script execution started.\n",
      "INFO:root:Feature engineering task completed.\n",
      "INFO:root:Script execution started.\n",
      "INFO:root:Feature engineering task completed.\n",
      "INFO:root:Script execution started.\n",
      "INFO:root:Feature engineering task completed.\n",
      "INFO:root:Script execution started.\n",
      "INFO:root:Feature engineering task completed.\n"
     ]
    }
   ],
   "source": [
    "#task 5\n",
    "import logging\n",
    "logging.basicConfig(\n",
    "    filename='app.log', \n",
    "    level=logging.INFO, \n",
    "    format='%(asctime)s - %(levelname)s - %(message)s'\n",
    ")\n",
    "\n",
    "logging.info(\"Script execution started.\")\n",
    "print(\"Log: Script execution started.\")\n",
    "\n",
    "logging.info(\"Feature engineering task completed.\")\n",
    "print(\"Log: Feature engineering task completed.\")\n",
    "\n",
    "\n",
    "with open(\"app.log\", \"r\") as file:\n",
    "    logs = file.readlines()\n",
    "    for line in logs:\n",
    "        print(line.strip()) "
   ]
  },
  {
   "cell_type": "code",
   "execution_count": 61,
   "id": "28a8b773-7aa0-4375-b733-75ecee9e1565",
   "metadata": {},
   "outputs": [
    {
     "name": "stdout",
     "output_type": "stream",
     "text": [
      "SHA256 Hash: 2cf24dba5fb0a30e26e83b2ac5b9e29e1b161e5c1fa7425e73043362938b9824\n"
     ]
    }
   ],
   "source": [
    "$task 6\n",
    "import hashlib\n",
    "\n",
    "# Step 3: Choose a sample string\n",
    "sample_string = \"hello\"\n",
    "\n",
    "# Step 4: Encode the string to bytes\n",
    "encoded_string = sample_string.encode('utf-8')\n",
    "\n",
    "# Step 5: Create a SHA256 hash object using the encoded string\n",
    "hash_object = hashlib.sha256(encoded_string)\n",
    "\n",
    "# Step 6: Convert the hash to a hexadecimal string\n",
    "hex_hash = hash_object.hexdigest()\n",
    "\n",
    "# Step 7: Print the hexadecimal hash value\n",
    "print(\"SHA256 Hash:\", hex_hash)"
   ]
  },
  {
   "cell_type": "code",
   "execution_count": null,
   "id": "5c9382a3-3adb-45a9-9dd5-f18753bb225c",
   "metadata": {},
   "outputs": [],
   "source": []
  }
 ],
 "metadata": {
  "kernelspec": {
   "display_name": "Python [conda env:base] *",
   "language": "python",
   "name": "conda-base-py"
  },
  "language_info": {
   "codemirror_mode": {
    "name": "ipython",
    "version": 3
   },
   "file_extension": ".py",
   "mimetype": "text/x-python",
   "name": "python",
   "nbconvert_exporter": "python",
   "pygments_lexer": "ipython3",
   "version": "3.12.4"
  }
 },
 "nbformat": 4,
 "nbformat_minor": 5
}

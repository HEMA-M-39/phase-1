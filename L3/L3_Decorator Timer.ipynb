{
 "cells": [
  {
   "cell_type": "code",
   "execution_count": 1,
   "id": "245f7849-f40c-4afb-bfe8-18723e1e91c7",
   "metadata": {},
   "outputs": [
    {
     "name": "stdout",
     "output_type": "stream",
     "text": [
      "Elapsed time: 1.00 seconds\n"
     ]
    }
   ],
   "source": [
    "#task4\n",
    "\n",
    "import time\n",
    "\n",
    "def timer_decorator(func):\n",
    "    def wrapper():\n",
    "        # Step 4: Record the start time\n",
    "        start_time = time.time()\n",
    "        func()\n",
    "        # Step 5: Calculate and print the elapsed time\n",
    "        elapsed_time = time.time() - start_time\n",
    "        print(f\"Elapsed time: {elapsed_time:.2f} seconds\")\n",
    "    return wrapper\n",
    "\n",
    "\n",
    "@timer_decorator\n",
    "def sample_function():\n",
    "    time.sleep(1)  # Pause for 1 second\n",
    "\n",
    "\n",
    "sample_function()  "
   ]
  },
  {
   "cell_type": "code",
   "execution_count": null,
   "id": "b46937ef-345a-41da-87b4-cb0b9bc2b8b2",
   "metadata": {},
   "outputs": [],
   "source": []
  }
 ],
 "metadata": {
  "kernelspec": {
   "display_name": "Python [conda env:base] *",
   "language": "python",
   "name": "conda-base-py"
  },
  "language_info": {
   "codemirror_mode": {
    "name": "ipython",
    "version": 3
   },
   "file_extension": ".py",
   "mimetype": "text/x-python",
   "name": "python",
   "nbconvert_exporter": "python",
   "pygments_lexer": "ipython3",
   "version": "3.12.4"
  }
 },
 "nbformat": 4,
 "nbformat_minor": 5
}

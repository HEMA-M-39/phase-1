{
 "cells": [
  {
   "cell_type": "code",
   "execution_count": 1,
   "id": "e412d2ae-3d51-4183-9675-1f0544cdb7dd",
   "metadata": {},
   "outputs": [
    {
     "name": "stdout",
     "output_type": "stream",
     "text": [
      "Original: [[8, 2], [3, 4]]\n",
      "Shallow Copy: [[8, 2], [3, 4]]\n",
      "Deep Copy: [[7, 2], [3, 4]]\n"
     ]
    }
   ],
   "source": [
    "# Bonus: Deep Copy Test\n",
    "import copy\n",
    "\n",
    "\n",
    "original_list = [[9, 2], [3, 4]]\n",
    "\n",
    "\n",
    "shallow_copy = copy.copy(original_list)\n",
    "\n",
    "\n",
    "deep_copy = copy.deepcopy(original_list)\n",
    "\n",
    "\n",
    "shallow_copy[0][0] = 8\n",
    "\n",
    "\n",
    "deep_copy[0][0] = 7\n",
    "\n",
    "\n",
    "print(\"Original:\", original_list)  \n",
    "print(\"Shallow Copy:\", shallow_copy)  \n",
    "print(\"Deep Copy:\", deep_copy) "
   ]
  },
  {
   "cell_type": "code",
   "execution_count": null,
   "id": "0830b360-bc4e-48ef-a314-05344b94b1ab",
   "metadata": {},
   "outputs": [],
   "source": []
  }
 ],
 "metadata": {
  "kernelspec": {
   "display_name": "Python [conda env:base] *",
   "language": "python",
   "name": "conda-base-py"
  },
  "language_info": {
   "codemirror_mode": {
    "name": "ipython",
    "version": 3
   },
   "file_extension": ".py",
   "mimetype": "text/x-python",
   "name": "python",
   "nbconvert_exporter": "python",
   "pygments_lexer": "ipython3",
   "version": "3.12.4"
  }
 },
 "nbformat": 4,
 "nbformat_minor": 5
}

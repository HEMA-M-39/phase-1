{
 "cells": [
  {
   "cell_type": "code",
   "execution_count": 1,
   "id": "1ee08c9a-5d0b-4fce-b979-53987867022d",
   "metadata": {},
   "outputs": [
    {
     "name": "stdout",
     "output_type": "stream",
     "text": [
      "Simulated probability: 0.0180\n",
      "Theoretical probability is 1/36 ≈ 0.0278, close to simulation.\n"
     ]
    }
   ],
   "source": [
    "#task 7\n",
    "import numpy as np\n",
    "trials = 1000\n",
    "die_rolls = np.random.randint(1, 7, size=(trials, 2))\n",
    "count = ((die_rolls [:,0] == 5) & (die_rolls [:,1] == 4)).sum()\n",
    "the_prob= 1/36\n",
    "simulated_prob = count / trials\n",
    "print(f\"Simulated probability: {simulated_prob:.4f}\")\n",
    "print(f\"Theoretical probability is 1/36 ≈ {the_prob:.4f}, close to simulation.\")"
   ]
  },
  {
   "cell_type": "code",
   "execution_count": null,
   "id": "8128dc5a-0550-45d2-ba0f-67cad002c139",
   "metadata": {},
   "outputs": [],
   "source": []
  }
 ],
 "metadata": {
  "kernelspec": {
   "display_name": "Python [conda env:base] *",
   "language": "python",
   "name": "conda-base-py"
  },
  "language_info": {
   "codemirror_mode": {
    "name": "ipython",
    "version": 3
   },
   "file_extension": ".py",
   "mimetype": "text/x-python",
   "name": "python",
   "nbconvert_exporter": "python",
   "pygments_lexer": "ipython3",
   "version": "3.12.4"
  }
 },
 "nbformat": 4,
 "nbformat_minor": 5
}

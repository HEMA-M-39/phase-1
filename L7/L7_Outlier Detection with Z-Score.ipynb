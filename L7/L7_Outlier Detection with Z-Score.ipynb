{
 "cells": [
  {
   "cell_type": "code",
   "execution_count": 1,
   "id": "d85b5ee0-52f1-49eb-8164-a0061164ba60",
   "metadata": {},
   "outputs": [
    {
     "name": "stdout",
     "output_type": "stream",
     "text": [
      "No outliers detected; all z-scores are below 3.\n"
     ]
    }
   ],
   "source": [
    "#task 3\n",
    "import numpy as np\n",
    "data =  [1, 2, 3, 4, 5, 6, 7, 8, 9, 20]\n",
    "mean = np.mean(data)\n",
    "std_dev = np.std(data, ddof=0)\n",
    "threshold = 3\n",
    "z_scores = [(x - mean) / std_dev for x in data]\n",
    "\n",
    "outlier =[data[i] for i, z in enumerate(z_scores) if abs(z) > threshold]\n",
    "\n",
    "if outlier:\n",
    "    \n",
    "    print('outlier in dataset is', outlier)\n",
    "else:\n",
    "    print(\"No outliers detected; all z-scores are below 3.\")"
   ]
  },
  {
   "cell_type": "code",
   "execution_count": null,
   "id": "9f3fb078-37b3-4c53-a666-83236f438ead",
   "metadata": {},
   "outputs": [],
   "source": []
  }
 ],
 "metadata": {
  "kernelspec": {
   "display_name": "Python [conda env:base] *",
   "language": "python",
   "name": "conda-base-py"
  },
  "language_info": {
   "codemirror_mode": {
    "name": "ipython",
    "version": 3
   },
   "file_extension": ".py",
   "mimetype": "text/x-python",
   "name": "python",
   "nbconvert_exporter": "python",
   "pygments_lexer": "ipython3",
   "version": "3.12.4"
  }
 },
 "nbformat": 4,
 "nbformat_minor": 5
}

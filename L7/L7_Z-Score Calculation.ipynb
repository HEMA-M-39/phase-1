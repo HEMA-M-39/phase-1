{
 "cells": [
  {
   "cell_type": "code",
   "execution_count": 1,
   "id": "eb60a1b0-5c81-45ad-b458-cadb2709fd39",
   "metadata": {},
   "outputs": [
    {
     "name": "stdout",
     "output_type": "stream",
     "text": [
      "mean:4.5\n",
      "std_dev:1.707825127659933\n",
      "z_scores: [np.float64(-1.4638501094227998), np.float64(-0.8783100656536799), np.float64(-0.29277002188455997), np.float64(0.29277002188455997), np.float64(0.8783100656536799), np.float64(1.4638501094227998)]\n",
      "The z-score for 5 is approximately 0.29, meaning it's 0.29 standard deviations above the mean.\n"
     ]
    }
   ],
   "source": [
    "#task 1\n",
    "import numpy as np\n",
    "data = [2, 3, 4, 5, 6, 7] \n",
    "mean = np.mean(data)\n",
    "std_dev = np.std(data, ddof=0)\n",
    "z_scores = [(x -mean) / std_dev for x in data]\n",
    "\n",
    "z_score_5 = (5-mean) / std_dev\n",
    "\n",
    "\n",
    "print(f\"mean:{mean}\")\n",
    "print(f\"std_dev:{std_dev}\")\n",
    "print(f\"z_scores: {z_scores}\")\n",
    "\n",
    "print(f\"The z-score for 5 is approximately {z_score_5:.2}, meaning it's {z_score_5:.2} standard deviations above the mean.\")\n",
    "\n",
    "\n",
    "\n"
   ]
  },
  {
   "cell_type": "code",
   "execution_count": null,
   "id": "52a373b6-04c4-47c6-984c-f1d5509fb5d8",
   "metadata": {},
   "outputs": [],
   "source": []
  }
 ],
 "metadata": {
  "kernelspec": {
   "display_name": "Python [conda env:base] *",
   "language": "python",
   "name": "conda-base-py"
  },
  "language_info": {
   "codemirror_mode": {
    "name": "ipython",
    "version": 3
   },
   "file_extension": ".py",
   "mimetype": "text/x-python",
   "name": "python",
   "nbconvert_exporter": "python",
   "pygments_lexer": "ipython3",
   "version": "3.12.4"
  }
 },
 "nbformat": 4,
 "nbformat_minor": 5
}

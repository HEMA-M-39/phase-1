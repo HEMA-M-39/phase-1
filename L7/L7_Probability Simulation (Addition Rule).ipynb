{
 "cells": [
  {
   "cell_type": "code",
   "execution_count": 1,
   "id": "7ee9bbb1-ca22-4cf0-a095-ea25b0d503fd",
   "metadata": {},
   "outputs": [
    {
     "name": "stdout",
     "output_type": "stream",
     "text": [
      "simulated probability:0.318\n",
      "Theoretical P(1 or 3): 0.3333333333333333\n",
      "Theoretical probability is 1/3, close to simulation.\n"
     ]
    }
   ],
   "source": [
    "#task 5\n",
    "import numpy as np\n",
    "rolls = np.random.randint(1, 7, 1000)\n",
    "count = np.sum((rolls == 1) | (rolls == 3))\n",
    "p_1_or_3= count / 1000\n",
    "print(f\"simulated probability:{p_1_or_3}\")\n",
    "\n",
    "theoretical = 1/3\n",
    "print(\"Theoretical P(1 or 3):\", theoretical)\n",
    "\n",
    "if np.isclose([p_1_or_3], [theoretical], atol=0.05).all():\n",
    "    print(\"Theoretical probability is 1/3, close to simulation.\")\n",
    "else:\n",
    "    print(\"Simulation deviates from theoretical probability.\")\n"
   ]
  },
  {
   "cell_type": "code",
   "execution_count": null,
   "id": "2c020a5d-d5e3-4ef6-b9be-83a36e7c8ca0",
   "metadata": {},
   "outputs": [],
   "source": []
  }
 ],
 "metadata": {
  "kernelspec": {
   "display_name": "Python [conda env:base] *",
   "language": "python",
   "name": "conda-base-py"
  },
  "language_info": {
   "codemirror_mode": {
    "name": "ipython",
    "version": 3
   },
   "file_extension": ".py",
   "mimetype": "text/x-python",
   "name": "python",
   "nbconvert_exporter": "python",
   "pygments_lexer": "ipython3",
   "version": "3.12.4"
  }
 },
 "nbformat": 4,
 "nbformat_minor": 5
}

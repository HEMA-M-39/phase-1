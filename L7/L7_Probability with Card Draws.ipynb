{
 "cells": [
  {
   "cell_type": "code",
   "execution_count": 1,
   "id": "1cbb49cb-0afa-4bab-a331-322047a00602",
   "metadata": {},
   "outputs": [
    {
     "name": "stdout",
     "output_type": "stream",
     "text": [
      "P(Queen or Heart) = 4/13 ≈ 0.3077, accounting for overlap.\n"
     ]
    }
   ],
   "source": [
    "#task 6\n",
    "from fractions import Fraction\n",
    "\n",
    "# Define the counts\n",
    "queen_count = 4\n",
    "heart_count = 13\n",
    "queen_heart_count = 1\n",
    "total_cards = 52\n",
    "\n",
    "# Calculate the combined probability\n",
    "total_favorable = queen_count + heart_count - queen_heart_count\n",
    "probability = total_favorable / total_cards\n",
    "\n",
    "# Simplify the fraction\n",
    "probability_fraction = Fraction(total_favorable, total_cards).limit_denominator()\n",
    "\n",
    "# Format the output\n",
    "print(f\"P(Queen or Heart) = {probability_fraction} ≈ {probability:.4f}, accounting for overlap.\")"
   ]
  },
  {
   "cell_type": "code",
   "execution_count": null,
   "id": "a885c37f-5042-457c-9d54-077eaeef2b32",
   "metadata": {},
   "outputs": [],
   "source": []
  }
 ],
 "metadata": {
  "kernelspec": {
   "display_name": "Python [conda env:base] *",
   "language": "python",
   "name": "conda-base-py"
  },
  "language_info": {
   "codemirror_mode": {
    "name": "ipython",
    "version": 3
   },
   "file_extension": ".py",
   "mimetype": "text/x-python",
   "name": "python",
   "nbconvert_exporter": "python",
   "pygments_lexer": "ipython3",
   "version": "3.12.4"
  }
 },
 "nbformat": 4,
 "nbformat_minor": 5
}

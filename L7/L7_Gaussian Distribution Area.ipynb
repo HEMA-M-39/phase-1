{
 "cells": [
  {
   "cell_type": "code",
   "execution_count": 5,
   "id": "c4f6ab05-64fe-47d9-96b3-c048af217023",
   "metadata": {},
   "outputs": [
    {
     "name": "stdout",
     "output_type": "stream",
     "text": [
      "Mean: 4\n",
      "Standard Deviation: 1\n",
      "Z-Score for 4.25: 0.25\n",
      "Approximately 40.13% of scores fall above 4.25.\n"
     ]
    }
   ],
   "source": [
    "#task 2\n",
    "import numpy as np\n",
    "from scipy.stats import norm\n",
    "mean= 4\n",
    "std = 1\n",
    "z_score = (4.25 - mean) / std\n",
    "\n",
    "percentage_above_4_25 = norm.sf(z_score) * 100\n",
    "print(f\"Mean: {mean}\")\n",
    "print(f\"Standard Deviation: {std}\")\n",
    "print(f\"Z-Score for 4.25: {z_score:.2f}\")\n",
    "print(f\"Approximately {round(percentage_above_4_25, 2)}% of scores fall above 4.25.\")\n"
   ]
  },
  {
   "cell_type": "code",
   "execution_count": null,
   "id": "4de6be27-fd12-456a-ab93-0beb873a21fe",
   "metadata": {},
   "outputs": [],
   "source": []
  }
 ],
 "metadata": {
  "kernelspec": {
   "display_name": "Python [conda env:base] *",
   "language": "python",
   "name": "conda-base-py"
  },
  "language_info": {
   "codemirror_mode": {
    "name": "ipython",
    "version": 3
   },
   "file_extension": ".py",
   "mimetype": "text/x-python",
   "name": "python",
   "nbconvert_exporter": "python",
   "pygments_lexer": "ipython3",
   "version": "3.12.4"
  }
 },
 "nbformat": 4,
 "nbformat_minor": 5
}

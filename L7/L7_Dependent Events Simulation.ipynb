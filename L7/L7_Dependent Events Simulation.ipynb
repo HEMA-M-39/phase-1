{
 "cells": [
  {
   "cell_type": "code",
   "execution_count": 59,
   "id": "17a83c19-8769-416f-a5a8-6c2e38b7d37f",
   "metadata": {},
   "outputs": [
    {
     "name": "stdout",
     "output_type": "stream",
     "text": [
      "Simulated probability: 0.0040\n",
      "Theoretical probability is 4/663 ≈ 0.0060, close to simulation.\n"
     ]
    }
   ],
   "source": [
    "#task 8\n",
    "import numpy as np\n",
    "\n",
    "# Create the deck\n",
    "deck = np.concatenate([np.zeros(4), np.ones(4), np.full(44, 2)])\n",
    "\n",
    "success_count = 0\n",
    "trials = 1000\n",
    "\n",
    "for _ in range(trials):\n",
    "    # Shuffle the deck indices\n",
    "    permuted_indices = np.random.permutation(52)\n",
    "    # Get first two cards\n",
    "    first, second = deck[permuted_indices[:2]]\n",
    "    if first == 0 and second == 1:\n",
    "        success_count += 1\n",
    "\n",
    "simulated_prob = success_count / trials\n",
    "theoretical_prob = 4 / 663  # 4/52 * 4/51 = 4/663 ≈ 0.006033\n",
    "\n",
    "print(f\"Simulated probability: {simulated_prob:.4f}\")\n",
    "print(f\"Theoretical probability is 4/663 ≈ {theoretical_prob:.4f}, close to simulation.\")"
   ]
  },
  {
   "cell_type": "code",
   "execution_count": null,
   "id": "48425637-a80f-48ef-a5ad-a4e00971358c",
   "metadata": {},
   "outputs": [],
   "source": []
  }
 ],
 "metadata": {
  "kernelspec": {
   "display_name": "Python [conda env:base] *",
   "language": "python",
   "name": "conda-base-py"
  },
  "language_info": {
   "codemirror_mode": {
    "name": "ipython",
    "version": 3
   },
   "file_extension": ".py",
   "mimetype": "text/x-python",
   "name": "python",
   "nbconvert_exporter": "python",
   "pygments_lexer": "ipython3",
   "version": "3.12.4"
  }
 },
 "nbformat": 4,
 "nbformat_minor": 5
}

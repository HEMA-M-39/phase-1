{
 "cells": [
  {
   "cell_type": "code",
   "execution_count": 1,
   "id": "a5d216af-b2c6-48dd-935e-053e58999232",
   "metadata": {},
   "outputs": [
    {
     "name": "stdout",
     "output_type": "stream",
     "text": [
      "[1, 2, 3]\n",
      "['A', 'B', 'C']\n"
     ]
    }
   ],
   "source": [
    "#task 4\n",
    "\n",
    "import threading\n",
    "def print_numbers():\n",
    "    print([1, 2, 3])\n",
    "\n",
    "# Define a second function that prints a list of 3 letters\n",
    "def print_letters():\n",
    "    print([\"A\", \"B\", \"C\"])\n",
    "\n",
    "# Create a thread object for the first function\n",
    "thread1 = threading.Thread(target=print_numbers)\n",
    "\n",
    "#  Create a second thread object for the second function\n",
    "thread2 = threading.Thread(target=print_letters)\n",
    "\n",
    "# Start both threads to run the functions concurrently\n",
    "thread1.start()\n",
    "thread2.start()\n",
    "\n",
    "#  Ensure both threads complete before the program ends\n",
    "thread1.join()\n",
    "thread2.join()"
   ]
  },
  {
   "cell_type": "code",
   "execution_count": null,
   "id": "014922f7-8d73-4f99-8522-eb042faba06d",
   "metadata": {},
   "outputs": [],
   "source": []
  }
 ],
 "metadata": {
  "kernelspec": {
   "display_name": "Python [conda env:base] *",
   "language": "python",
   "name": "conda-base-py"
  },
  "language_info": {
   "codemirror_mode": {
    "name": "ipython",
    "version": 3
   },
   "file_extension": ".py",
   "mimetype": "text/x-python",
   "name": "python",
   "nbconvert_exporter": "python",
   "pygments_lexer": "ipython3",
   "version": "3.12.4"
  }
 },
 "nbformat": 4,
 "nbformat_minor": 5
}

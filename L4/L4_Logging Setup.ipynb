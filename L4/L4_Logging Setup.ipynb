{
 "cells": [
  {
   "cell_type": "code",
   "execution_count": 1,
   "id": "5551c565-239b-4b77-ae3c-78895ab82cdc",
   "metadata": {},
   "outputs": [
    {
     "name": "stdout",
     "output_type": "stream",
     "text": [
      "Log: Script execution started.\n",
      "Log: Feature engineering task completed.\n",
      "INFO:root:Script has started.\n",
      "INFO:root:Task completed successfully.\n",
      "INFO:root:Script has started.\n",
      "INFO:root:Task completed successfully.\n",
      "INFO:root:Script execution started.\n",
      "INFO:root:Feature engineering task completed.\n",
      "INFO:root:Script execution started.\n",
      "INFO:root:Feature engineering task completed.\n",
      "INFO:root:Script execution started.\n",
      "INFO:root:Feature engineering task completed.\n",
      "INFO:root:This is an info message\n",
      "WARNING:root:This is an warning message\n",
      "CRITICAL:root:This is a critical message\n",
      "ERROR:root:This is a error message\n",
      "INFO:root:Script execution started.\n",
      "INFO:root:Feature engineering task completed.\n",
      "INFO:root:Script execution started.\n",
      "INFO:root:Feature engineering task completed.\n",
      "INFO:root:Script execution started.\n",
      "INFO:root:Feature engineering task completed.\n",
      "INFO:root:Script execution started.\n",
      "INFO:root:Feature engineering task completed.\n",
      "INFO:root:Script execution started.\n",
      "INFO:root:Feature engineering task completed.\n",
      "ERROR:ipykernel.comm:No such comm target registered: jupyter.widget.control\n",
      "WARNING:Comm:No such comm: c99980a5-1ea9-4c72-bd58-beba0268be5b\n",
      "ERROR:ipykernel.comm:No such comm target registered: jupyter.widget.control\n",
      "WARNING:Comm:No such comm: 7c8502b4-01bb-4500-af30-e8c53acfe603\n",
      "ERROR:ipykernel.comm:No such comm target registered: jupyter.widget.control\n",
      "WARNING:Comm:No such comm: 42197453-98ea-4828-b537-3e65bd1905f6\n",
      "ERROR:ipykernel.comm:No such comm target registered: jupyter.widget.control\n",
      "WARNING:Comm:No such comm: 2faf0957-eeeb-4752-9aba-81bb50730a1e\n",
      "ERROR:ipykernel.comm:No such comm target registered: jupyter.widget.control\n",
      "WARNING:Comm:No such comm: 6779924b-89a0-4815-99aa-0c53e2804292\n",
      "2025-03-28 16:13:48,136 - INFO - Script execution started.\n",
      "2025-03-28 16:13:48,136 - INFO - Feature engineering task completed.\n"
     ]
    }
   ],
   "source": [
    "#task 5\n",
    "import logging\n",
    "logging.basicConfig(\n",
    "    filename='app.log', \n",
    "    level=logging.INFO, \n",
    "    format='%(asctime)s - %(levelname)s - %(message)s'\n",
    ")\n",
    "\n",
    "logging.info(\"Script execution started.\")\n",
    "print(\"Log: Script execution started.\")\n",
    "\n",
    "logging.info(\"Feature engineering task completed.\")\n",
    "print(\"Log: Feature engineering task completed.\")\n",
    "\n",
    "\n",
    "with open(\"app.log\", \"r\") as file:\n",
    "    logs = file.readlines()\n",
    "    for line in logs:\n",
    "        print(line.strip()) "
   ]
  },
  {
   "cell_type": "code",
   "execution_count": null,
   "id": "02b9fbe5-06c7-4257-978f-6ee864bd5070",
   "metadata": {},
   "outputs": [],
   "source": []
  }
 ],
 "metadata": {
  "kernelspec": {
   "display_name": "Python [conda env:base] *",
   "language": "python",
   "name": "conda-base-py"
  },
  "language_info": {
   "codemirror_mode": {
    "name": "ipython",
    "version": 3
   },
   "file_extension": ".py",
   "mimetype": "text/x-python",
   "name": "python",
   "nbconvert_exporter": "python",
   "pygments_lexer": "ipython3",
   "version": "3.12.4"
  }
 },
 "nbformat": 4,
 "nbformat_minor": 5
}

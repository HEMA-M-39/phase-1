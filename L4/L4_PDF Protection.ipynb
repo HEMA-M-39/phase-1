{
 "cells": [
  {
   "cell_type": "code",
   "execution_count": 2,
   "id": "b7e60b53-5bda-47e1-adde-1c15a0015d74",
   "metadata": {},
   "outputs": [
    {
     "name": "stdout",
     "output_type": "stream",
     "text": [
      "Requirement already satisfied: PyPDF2 in d:\\anaconda\\lib\\site-packages (3.0.1)\n",
      "PDF successfully encrypted and saved as 'output.pdf'.\n"
     ]
    }
   ],
   "source": [
    "#task 2\n",
    "\n",
    "!pip install  PyPDF2\n",
    "\n",
    "from PyPDF2 import  PdfReader, PdfWriter\n",
    "reader = PdfReader(\"MY_RESUME.pdf\")\n",
    "\n",
    "writer =  PdfWriter()\n",
    "for page in reader.pages:\n",
    "    writer.add_page(page)\n",
    "\n",
    "writer.encrypt(\"143929\")\n",
    "\n",
    "# Write the encrypted content to a new PDF\n",
    "with open(\"output.pdf\", \"wb\") as output_file:\n",
    "    writer.write(output_file)\n",
    "\n",
    "\n",
    "print(\"PDF successfully encrypted and saved as 'output.pdf'.\")    \n"
   ]
  },
  {
   "cell_type": "code",
   "execution_count": null,
   "id": "b4169d54-e644-47d0-a9fc-d33b12b663f7",
   "metadata": {},
   "outputs": [],
   "source": []
  }
 ],
 "metadata": {
  "kernelspec": {
   "display_name": "Python [conda env:base] *",
   "language": "python",
   "name": "conda-base-py"
  },
  "language_info": {
   "codemirror_mode": {
    "name": "ipython",
    "version": 3
   },
   "file_extension": ".py",
   "mimetype": "text/x-python",
   "name": "python",
   "nbconvert_exporter": "python",
   "pygments_lexer": "ipython3",
   "version": "3.12.4"
  }
 },
 "nbformat": 4,
 "nbformat_minor": 5
}

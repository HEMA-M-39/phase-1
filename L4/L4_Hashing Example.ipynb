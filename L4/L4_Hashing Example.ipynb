{
 "cells": [
  {
   "cell_type": "code",
   "execution_count": 3,
   "id": "7e8c92a0-c93e-4eac-a07a-1286fc33d77b",
   "metadata": {},
   "outputs": [
    {
     "name": "stdout",
     "output_type": "stream",
     "text": [
      "SHA256 Hash: 2cf24dba5fb0a30e26e83b2ac5b9e29e1b161e5c1fa7425e73043362938b9824\n"
     ]
    }
   ],
   "source": [
    "#task 6\n",
    "import hashlib\n",
    "\n",
    "# Step 3: Choose a sample string\n",
    "sample_string = \"hello\"\n",
    "\n",
    "# Step 4: Encode the string to bytes\n",
    "encoded_string = sample_string.encode('utf-8')\n",
    "\n",
    "# Step 5: Create a SHA256 hash object using the encoded string\n",
    "hash_object = hashlib.sha256(encoded_string)\n",
    "\n",
    "# Step 6: Convert the hash to a hexadecimal string\n",
    "hex_hash = hash_object.hexdigest()\n",
    "\n",
    "# Step 7: Print the hexadecimal hash value\n",
    "print(\"SHA256 Hash:\", hex_hash)"
   ]
  },
  {
   "cell_type": "code",
   "execution_count": null,
   "id": "da053388-b195-49fe-92e1-1305fe51d965",
   "metadata": {},
   "outputs": [],
   "source": []
  }
 ],
 "metadata": {
  "kernelspec": {
   "display_name": "Python [conda env:base] *",
   "language": "python",
   "name": "conda-base-py"
  },
  "language_info": {
   "codemirror_mode": {
    "name": "ipython",
    "version": 3
   },
   "file_extension": ".py",
   "mimetype": "text/x-python",
   "name": "python",
   "nbconvert_exporter": "python",
   "pygments_lexer": "ipython3",
   "version": "3.12.4"
  }
 },
 "nbformat": 4,
 "nbformat_minor": 5
}

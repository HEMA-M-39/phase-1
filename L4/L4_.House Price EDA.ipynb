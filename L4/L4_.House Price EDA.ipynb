{
 "cells": [
  {
   "cell_type": "code",
   "execution_count": 3,
   "id": "e5d9e043-3f5a-42a3-a214-b1133bf82dab",
   "metadata": {},
   "outputs": [
    {
     "name": "stdout",
     "output_type": "stream",
     "text": [
      "Descriptive Statistics:\n",
      "               price     bedrooms    bathrooms   sqft_living      sqft_lot  \\\n",
      "count  4.600000e+03  4600.000000  4600.000000   4600.000000  4.600000e+03   \n",
      "mean   5.519630e+05     3.400870     2.160815   2139.346957  1.485252e+04   \n",
      "std    5.638347e+05     0.908848     0.783781    963.206916  3.588444e+04   \n",
      "min    0.000000e+00     0.000000     0.000000    370.000000  6.380000e+02   \n",
      "25%    3.228750e+05     3.000000     1.750000   1460.000000  5.000750e+03   \n",
      "50%    4.609435e+05     3.000000     2.250000   1980.000000  7.683000e+03   \n",
      "75%    6.549625e+05     4.000000     2.500000   2620.000000  1.100125e+04   \n",
      "max    2.659000e+07     9.000000     8.000000  13540.000000  1.074218e+06   \n",
      "\n",
      "            floors   waterfront         view    condition   sqft_above  \\\n",
      "count  4600.000000  4600.000000  4600.000000  4600.000000  4600.000000   \n",
      "mean      1.512065     0.007174     0.240652     3.451739  1827.265435   \n",
      "std       0.538288     0.084404     0.778405     0.677230   862.168977   \n",
      "min       1.000000     0.000000     0.000000     1.000000   370.000000   \n",
      "25%       1.000000     0.000000     0.000000     3.000000  1190.000000   \n",
      "50%       1.500000     0.000000     0.000000     3.000000  1590.000000   \n",
      "75%       2.000000     0.000000     0.000000     4.000000  2300.000000   \n",
      "max       3.500000     1.000000     4.000000     5.000000  9410.000000   \n",
      "\n",
      "       sqft_basement     yr_built  yr_renovated  \n",
      "count    4600.000000  4600.000000   4600.000000  \n",
      "mean      312.081522  1970.786304    808.608261  \n",
      "std       464.137228    29.731848    979.414536  \n",
      "min         0.000000  1900.000000      0.000000  \n",
      "25%         0.000000  1951.000000      0.000000  \n",
      "50%         0.000000  1976.000000      0.000000  \n",
      "75%       610.000000  1997.000000   1999.000000  \n",
      "max      4820.000000  2014.000000   2014.000000  \n"
     ]
    }
   ],
   "source": [
    "#task 1\n",
    "\n",
    "import pandas as pd\n",
    "file_path = 'data.csv'\n",
    "df = pd.read_csv(file_path)\n",
    "\n",
    "stats = df.describe()\n",
    "print(\"Descriptive Statistics:\\n\", stats)"
   ]
  },
  {
   "cell_type": "code",
   "execution_count": 59,
   "id": "3e6cdd04-3cf2-4f24-8598-82283b0f293a",
   "metadata": {},
   "outputs": [
    {
     "name": "stdout",
     "output_type": "stream",
     "text": [
      "Log: Script execution started.\n",
      "Log: Feature engineering task completed.\n",
      "INFO:root:Script has started.\n",
      "INFO:root:Task completed successfully.\n",
      "INFO:root:Script has started.\n",
      "INFO:root:Task completed successfully.\n",
      "INFO:root:Script execution started.\n",
      "INFO:root:Feature engineering task completed.\n",
      "INFO:root:Script execution started.\n",
      "INFO:root:Feature engineering task completed.\n",
      "INFO:root:Script execution started.\n",
      "INFO:root:Feature engineering task completed.\n",
      "INFO:root:This is an info message\n",
      "WARNING:root:This is an warning message\n",
      "CRITICAL:root:This is a critical message\n",
      "ERROR:root:This is a error message\n",
      "INFO:root:Script execution started.\n",
      "INFO:root:Feature engineering task completed.\n",
      "INFO:root:Script execution started.\n",
      "INFO:root:Feature engineering task completed.\n",
      "INFO:root:Script execution started.\n",
      "INFO:root:Feature engineering task completed.\n",
      "INFO:root:Script execution started.\n",
      "INFO:root:Feature engineering task completed.\n",
      "INFO:root:Script execution started.\n",
      "INFO:root:Feature engineering task completed.\n"
     ]
    }
   ],
   "source": [
    "#task 5\n",
    "import logging\n",
    "logging.basicConfig(\n",
    "    filename='app.log', \n",
    "    level=logging.INFO, \n",
    "    format='%(asctime)s - %(levelname)s - %(message)s'\n",
    ")\n",
    "\n",
    "logging.info(\"Script execution started.\")\n",
    "print(\"Log: Script execution started.\")\n",
    "\n",
    "logging.info(\"Feature engineering task completed.\")\n",
    "print(\"Log: Feature engineering task completed.\")\n",
    "\n",
    "\n",
    "with open(\"app.log\", \"r\") as file:\n",
    "    logs = file.readlines()\n",
    "    for line in logs:\n",
    "        print(line.strip()) "
   ]
  },
  {
   "cell_type": "code",
   "execution_count": 61,
   "id": "28a8b773-7aa0-4375-b733-75ecee9e1565",
   "metadata": {},
   "outputs": [
    {
     "name": "stdout",
     "output_type": "stream",
     "text": [
      "SHA256 Hash: 2cf24dba5fb0a30e26e83b2ac5b9e29e1b161e5c1fa7425e73043362938b9824\n"
     ]
    }
   ],
   "source": [
    "$task 6\n",
    "import hashlib\n",
    "\n",
    "# Step 3: Choose a sample string\n",
    "sample_string = \"hello\"\n",
    "\n",
    "# Step 4: Encode the string to bytes\n",
    "encoded_string = sample_string.encode('utf-8')\n",
    "\n",
    "# Step 5: Create a SHA256 hash object using the encoded string\n",
    "hash_object = hashlib.sha256(encoded_string)\n",
    "\n",
    "# Step 6: Convert the hash to a hexadecimal string\n",
    "hex_hash = hash_object.hexdigest()\n",
    "\n",
    "# Step 7: Print the hexadecimal hash value\n",
    "print(\"SHA256 Hash:\", hex_hash)"
   ]
  },
  {
   "cell_type": "code",
   "execution_count": null,
   "id": "5c9382a3-3adb-45a9-9dd5-f18753bb225c",
   "metadata": {},
   "outputs": [],
   "source": []
  }
 ],
 "metadata": {
  "kernelspec": {
   "display_name": "Python [conda env:base] *",
   "language": "python",
   "name": "conda-base-py"
  },
  "language_info": {
   "codemirror_mode": {
    "name": "ipython",
    "version": 3
   },
   "file_extension": ".py",
   "mimetype": "text/x-python",
   "name": "python",
   "nbconvert_exporter": "python",
   "pygments_lexer": "ipython3",
   "version": "3.12.4"
  }
 },
 "nbformat": 4,
 "nbformat_minor": 5
}

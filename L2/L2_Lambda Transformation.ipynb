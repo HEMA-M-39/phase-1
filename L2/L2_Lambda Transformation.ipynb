{
 "cells": [
  {
   "cell_type": "code",
   "execution_count": 3,
   "id": "df9be82c-4f28-4950-8e0e-1213d4debbfd",
   "metadata": {},
   "outputs": [
    {
     "name": "stdout",
     "output_type": "stream",
     "text": [
      "\n",
      "Cubed Even Numbers: [8, 64]\n"
     ]
    }
   ],
   "source": [
    "numbers = [1, 2, 3, 4, 5]\n",
    "\n",
    "\n",
    "even_numbers = filter(lambda x: x % 2 == 0, numbers)\n",
    "\n",
    "teven_numbers_list = list(even_numbers)\n",
    "\n",
    "\n",
    "cubed_evens = map(lambda x: x ** 3, teven_numbers_list)\n",
    "\n",
    "\n",
    "cubed_evens_list = list(cubed_evens)\n",
    "\n",
    "\n",
    "print(\"\\nCubed Even Numbers:\", cubed_evens_list)"
   ]
  },
  {
   "cell_type": "code",
   "execution_count": null,
   "id": "80736a2d-2161-4460-9c81-324d24e2ad3b",
   "metadata": {},
   "outputs": [],
   "source": []
  }
 ],
 "metadata": {
  "kernelspec": {
   "display_name": "Python [conda env:base] *",
   "language": "python",
   "name": "conda-base-py"
  },
  "language_info": {
   "codemirror_mode": {
    "name": "ipython",
    "version": 3
   },
   "file_extension": ".py",
   "mimetype": "text/x-python",
   "name": "python",
   "nbconvert_exporter": "python",
   "pygments_lexer": "ipython3",
   "version": "3.12.4"
  }
 },
 "nbformat": 4,
 "nbformat_minor": 5
}

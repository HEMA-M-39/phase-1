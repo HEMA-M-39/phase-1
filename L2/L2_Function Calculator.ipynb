{
 "cells": [
  {
   "cell_type": "code",
   "execution_count": 5,
   "id": "af485356-3471-4237-ad38-749505f66792",
   "metadata": {},
   "outputs": [
    {
     "name": "stdout",
     "output_type": "stream",
     "text": [
      "\n",
      "Area: 12\n"
     ]
    }
   ],
   "source": [
    "def calc_area(length, width=2):\n",
    "    \"\"\"Calculate the area of a rectangle.\"\"\"\n",
    "    return length * width\n",
    "\n",
    "\n",
    "result = calc_area(6)\n",
    "\n",
    "print(\"\\nArea:\", result)"
   ]
  },
  {
   "cell_type": "code",
   "execution_count": null,
   "id": "7df8d6d7-c92d-45a5-81f6-3a9607cdc077",
   "metadata": {},
   "outputs": [],
   "source": []
  }
 ],
 "metadata": {
  "kernelspec": {
   "display_name": "Python [conda env:base] *",
   "language": "python",
   "name": "conda-base-py"
  },
  "language_info": {
   "codemirror_mode": {
    "name": "ipython",
    "version": 3
   },
   "file_extension": ".py",
   "mimetype": "text/x-python",
   "name": "python",
   "nbconvert_exporter": "python",
   "pygments_lexer": "ipython3",
   "version": "3.12.4"
  }
 },
 "nbformat": 4,
 "nbformat_minor": 5
}

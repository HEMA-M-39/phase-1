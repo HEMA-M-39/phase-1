{
 "cells": [
  {
   "cell_type": "code",
   "execution_count": 5,
   "id": "cf410946-63ce-4650-ac3b-fdf5bae1dccd",
   "metadata": {},
   "outputs": [
    {
     "name": "stdout",
     "output_type": "stream",
     "text": [
      "Selected Features (non-zero coefficients):\n",
      "                                  Feature    Coefficient\n",
      "0                                      id -146881.982119\n",
      "1                                    Date     802.883974\n",
      "2                      number of bedrooms  -35867.997779\n",
      "3                     number of bathrooms   20111.153554\n",
      "4                             living area  197152.184264\n",
      "5                                lot area   -9176.016375\n",
      "6                        number of floors  -14042.726633\n",
      "7                      waterfront present   47163.412979\n",
      "8                         number of views   25045.315336\n",
      "9                  condition of the house    7513.509564\n",
      "10                     grade of the house   60759.322270\n",
      "11  Area of the house(excluding basement)  -34388.850203\n",
      "12                   Area of the basement  -42131.204906\n",
      "13                             Built Year  -46962.509092\n",
      "14                        Renovation Year    5946.783442\n",
      "15                            Postal Code   20323.772435\n",
      "16                              Lattitude   22191.385462\n",
      "17                              Longitude  -14881.676812\n",
      "18                      living_area_renov  -11927.996091\n",
      "19                         lot_area_renov   -7852.164376\n",
      "20               Number of schools nearby    1380.598201\n",
      "21              Distance from the airport   -1466.887690\n",
      "R²: 0.7514192625986358\n",
      "Mean Squared Error (MSE): 35029736587.032715\n"
     ]
    },
    {
     "name": "stderr",
     "output_type": "stream",
     "text": [
      "C:\\Users\\hameh\\AppData\\Roaming\\Python\\Python312\\site-packages\\sklearn\\linear_model\\_coordinate_descent.py:695: ConvergenceWarning: Objective did not converge. You might want to increase the number of iterations, check the scale of the features or consider increasing regularisation. Duality gap: 4.233e+13, tolerance: 1.563e+11\n",
      "  model = cd_fast.enet_coordinate_descent(\n"
     ]
    }
   ],
   "source": [
    "import pandas as pd\n",
    "import numpy as np\n",
    "import matplotlib.pyplot as plt\n",
    "from sklearn.model_selection import train_test_split\n",
    "from sklearn.preprocessing import StandardScaler\n",
    "from sklearn.linear_model import Lasso\n",
    "from sklearn.metrics import mean_squared_error, r2_score\n",
    "from sklearn.impute import SimpleImputer\n",
    "from sklearn.compose import ColumnTransformer\n",
    "from sklearn.pipeline import Pipeline\n",
    "from sklearn.preprocessing import OneHotEncoder\n",
    "df = pd.read_csv('house_data.csv')  \n",
    "\n",
    "imputer = SimpleImputer(strategy='mean')  \n",
    "df_imputed = pd.DataFrame(imputer.fit_transform(df.select_dtypes(include=[np.number])))\n",
    "\n",
    "categorical_cols = df.select_dtypes(include=['object']).columns\n",
    "preprocessor = ColumnTransformer(\n",
    "    transformers=[\n",
    "        ('num', SimpleImputer(strategy='mean'), df.select_dtypes(include=[np.number]).columns),\n",
    "        ('cat', OneHotEncoder(), categorical_cols)\n",
    "    ])\n",
    "\n",
    "X = df.drop(columns='Price')  \n",
    "y = df['Price']\n",
    "X_train, X_test, y_train, y_test = train_test_split(X, y, test_size=0.2, random_state=42)\n",
    "\n",
    "scaler = StandardScaler()\n",
    "X_train_scaled = scaler.fit_transform(X_train)\n",
    "X_test_scaled = scaler.transform(X_test)\n",
    "lasso_model = Lasso(alpha=0.1)\n",
    "lasso_model.fit(X_train_scaled, y_train)\n",
    "coefficients = pd.DataFrame({\n",
    "    'Feature': X.columns,\n",
    "    'Coefficient': lasso_model.coef_\n",
    "})\n",
    "selected_features = coefficients[coefficients['Coefficient'] != 0]\n",
    "y_pred = lasso_model.predict(X_test_scaled)\n",
    "r2 = r2_score(y_test, y_pred)\n",
    "mse = mean_squared_error(y_test, y_pred)\n",
    "print(\"Selected Features (non-zero coefficients):\")\n",
    "print(selected_features)\n",
    "print(f\"R²: {r2}\")\n",
    "print(f\"Mean Squared Error (MSE): {mse}\")\n",
    "\n"
   ]
  },
  {
   "cell_type": "code",
   "execution_count": null,
   "id": "23d59669-eb60-498e-8e73-1775425bfe53",
   "metadata": {},
   "outputs": [],
   "source": []
  }
 ],
 "metadata": {
  "kernelspec": {
   "display_name": "Python [conda env:base] *",
   "language": "python",
   "name": "conda-base-py"
  },
  "language_info": {
   "codemirror_mode": {
    "name": "ipython",
    "version": 3
   },
   "file_extension": ".py",
   "mimetype": "text/x-python",
   "name": "python",
   "nbconvert_exporter": "python",
   "pygments_lexer": "ipython3",
   "version": "3.12.4"
  }
 },
 "nbformat": 4,
 "nbformat_minor": 5
}

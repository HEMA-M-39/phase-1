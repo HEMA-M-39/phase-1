{
 "cells": [
  {
   "cell_type": "code",
   "execution_count": 1,
   "id": "54833e2a-f7b2-4873-ab62-5c5a3ed0ead7",
   "metadata": {},
   "outputs": [
    {
     "name": "stdin",
     "output_type": "stream",
     "text": [
      "Enter a short text message:    Hello all!, This is ME\n"
     ]
    },
    {
     "name": "stdout",
     "output_type": "stream",
     "text": [
      "SHA256 Hash: f414e4bc04a3af07cd045fd74def4705f65ce6f382f086e46b11d5ab0a1f12a3\n"
     ]
    }
   ],
   "source": [
    "#project 4\n",
    "# Step 1: Import necessary libraries\n",
    "import hashlib\n",
    "\n",
    "# Step 2: Prompt user for input\n",
    "message = input(\"Enter a short text message: \")\n",
    "\n",
    "# Step 3: Write the message to a file\n",
    "with open(\"message.txt\", \"w\") as file:\n",
    "    file.write(message)\n",
    "\n",
    "# Step 4: Read the message back from the file\n",
    "with open(\"message.txt\", \"r\") as file:\n",
    "    content = file.read()\n",
    "\n",
    "# Step 5: Encode the content and generate SHA256 hash\n",
    "encoded_content = content.encode('utf-8')\n",
    "hash_object = hashlib.sha256(encoded_content)\n",
    "hash_value = hash_object.hexdigest()\n",
    "\n",
    "# Step 6: Save the hash to a new file\n",
    "with open(\"encrypted.txt\", \"w\") as file:\n",
    "    file.write(hash_value)\n",
    "\n",
    "# Step 7: Print the hash value\n",
    "print(\"SHA256 Hash:\", hash_value)\n"
   ]
  }
 ],
 "metadata": {
  "kernelspec": {
   "display_name": "Python [conda env:base] *",
   "language": "python",
   "name": "conda-base-py"
  },
  "language_info": {
   "codemirror_mode": {
    "name": "ipython",
    "version": 3
   },
   "file_extension": ".py",
   "mimetype": "text/x-python",
   "name": "python",
   "nbconvert_exporter": "python",
   "pygments_lexer": "ipython3",
   "version": "3.12.4"
  }
 },
 "nbformat": 4,
 "nbformat_minor": 5
}

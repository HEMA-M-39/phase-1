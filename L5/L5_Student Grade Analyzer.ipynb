{
 "cells": [
  {
   "cell_type": "code",
   "execution_count": 1,
   "id": "4dddaaaf-6fd2-4ee9-8940-959928021e11",
   "metadata": {},
   "outputs": [
    {
     "name": "stdin",
     "output_type": "stream",
     "text": [
      "Enter student 1 name:  pooja\n",
      "Enter pooja's grade (0-100):  96\n",
      "Enter student 2 name:  jesi\n",
      "Enter jesi's grade (0-100):  85\n",
      "Enter student 3 name:  leela\n",
      "Enter leela's grade (0-100):  89\n",
      "Enter student 4 name:  magathi\n",
      "Enter magathi's grade (0-100):  56\n",
      "Enter student 5 name:  malini\n",
      "Enter malini's grade (0-100):  50\n"
     ]
    },
    {
     "name": "stdout",
     "output_type": "stream",
     "text": [
      "--- Student Grade Summary ---\n",
      "Average Grade: 75.20\n",
      "Passing Students: 3\n",
      "failed students : 2\n"
     ]
    }
   ],
   "source": [
    "#project 2\n",
    "\n",
    "# Step 1: Initialize an empty list for student grades\n",
    "student_grades = []\n",
    "\n",
    "# Step 2: Collect student names and grades\n",
    "for i in range(5):\n",
    "    name = input(f\"Enter student {i + 1} name: \")\n",
    "    grade = float(input(f\"Enter {name}'s grade (0-100): \"))\n",
    "    student_grades.append((name, grade))\n",
    "\n",
    "# Step 3: Function to calculate average grade\n",
    "def calculate_average(grades):\n",
    "    total = sum(grade for _, grade in grades)\n",
    "    return total / len(grades)\n",
    "\n",
    "# Step 4: Function to count students with grades above 60\n",
    "def count_passing(grades):\n",
    "    return sum(1 for _, grade in grades if grade > 60)\n",
    "\n",
    "def count_fail(grades):\n",
    "     return sum(1 for _, grade in grades if grade < 60)\n",
    "\n",
    "# Step 5: Calculate average and passing count\n",
    "average_grade = calculate_average(student_grades)\n",
    "passing_count = count_passing(student_grades)\n",
    "fail_count = count_fail(student_grades)\n",
    "\n",
    "# Step 6: Print results\n",
    "print(\"--- Student Grade Summary ---\")\n",
    "print(f\"Average Grade: {average_grade:.2f}\")\n",
    "print(f\"Passing Students: {passing_count}\")\n",
    "print(f\"failed students : {fail_count}\")"
   ]
  },
  {
   "cell_type": "code",
   "execution_count": null,
   "id": "e4f48b02-e557-47bb-869b-b1693be62304",
   "metadata": {},
   "outputs": [],
   "source": []
  }
 ],
 "metadata": {
  "kernelspec": {
   "display_name": "Python [conda env:base] *",
   "language": "python",
   "name": "conda-base-py"
  },
  "language_info": {
   "codemirror_mode": {
    "name": "ipython",
    "version": 3
   },
   "file_extension": ".py",
   "mimetype": "text/x-python",
   "name": "python",
   "nbconvert_exporter": "python",
   "pygments_lexer": "ipython3",
   "version": "3.12.4"
  }
 },
 "nbformat": 4,
 "nbformat_minor": 5
}

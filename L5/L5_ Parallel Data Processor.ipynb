{
 "cells": [
  {
   "cell_type": "code",
   "execution_count": 3,
   "id": "3375020f-2954-4689-b119-fda2151df12a",
   "metadata": {},
   "outputs": [
    {
     "name": "stdout",
     "output_type": "stream",
     "text": [
      "Processing complete. Check 'processing.log' for details.\n"
     ]
    }
   ],
   "source": [
    "#project 6\n",
    "# Step 1: Import necessary libraries\n",
    "import threading\n",
    "import logging\n",
    "import pandas as pd\n",
    "\n",
    "# Step 2: Configure logging\n",
    "logging.basicConfig(filename='processing.log', level=logging.INFO, format='%(asctime)s - %(message)s')\n",
    "\n",
    "# Step 3: Define a function to process CSV and calculate mean\n",
    "def calculate_mean(file_path, column_name):\n",
    "    logging.info(f\"Started processing {file_path}\")\n",
    "    try:\n",
    "        data = pd.read_csv(file_path)\n",
    "        mean_value = data[column_name].mean()\n",
    "        print(f\"Mean for {file_path}: {mean_value}\")\n",
    "    except Exception as e:\n",
    "        logging.error(f\"Error processing {file_path}: {e}\")\n",
    "    finally:\n",
    "        logging.info(f\"Finished processing {file_path}\")\n",
    "\n",
    "# Step 4: Create threads to process multiple CSV files\n",
    "file1 = \"data.csv\"\n",
    "file2 = \"realest.csv\"\n",
    "column_to_process = \"value\"\n",
    "\n",
    "thread1 = threading.Thread(target=calculate_mean, args=(file1, column_to_process))\n",
    "thread2 = threading.Thread(target=calculate_mean, args=(file2, column_to_process))\n",
    "\n",
    "# Step 5: Start both threads\n",
    "thread1.start()\n",
    "thread2.start()\n",
    "\n",
    "# Step 6: Wait for both threads to complete\n",
    "thread1.join()\n",
    "thread2.join()\n",
    "\n",
    "print(\"Processing complete. Check 'processing.log' for details.\")"
   ]
  },
  {
   "cell_type": "code",
   "execution_count": null,
   "id": "1fe42388-a77c-40c6-a0a9-62ffc7a6129e",
   "metadata": {},
   "outputs": [],
   "source": []
  }
 ],
 "metadata": {
  "kernelspec": {
   "display_name": "Python [conda env:base] *",
   "language": "python",
   "name": "conda-base-py"
  },
  "language_info": {
   "codemirror_mode": {
    "name": "ipython",
    "version": 3
   },
   "file_extension": ".py",
   "mimetype": "text/x-python",
   "name": "python",
   "nbconvert_exporter": "python",
   "pygments_lexer": "ipython3",
   "version": "3.12.4"
  }
 },
 "nbformat": 4,
 "nbformat_minor": 5
}

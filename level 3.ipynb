{
 "cells": [
  {
   "cell_type": "code",
   "execution_count": 31,
   "id": "4c65a447-a8ff-4f74-b4c5-a408e7fb2678",
   "metadata": {},
   "outputs": [
    {
     "name": "stdout",
     "output_type": "stream",
     "text": [
      "Hi,Alice\n"
     ]
    }
   ],
   "source": [
    "#task1\n",
    "class Person:\n",
    "    def __init__(self,name):\n",
    "        self.name = name\n",
    "\n",
    "    def greet(self):\n",
    "        return f\"Hi,{self.name}\"\n",
    "        \n",
    "person_instance = Person(\"Alice\")\n",
    "\n",
    "result =  person_instance.greet()\n",
    "\n",
    "print(result)\n",
    "\n",
    "\n",
    "\n",
    "        \n",
    "    "
   ]
  },
  {
   "cell_type": "code",
   "execution_count": 33,
   "id": "98f712c5-38d1-4646-9c5e-c215c700c80b",
   "metadata": {},
   "outputs": [
    {
     "name": "stdout",
     "output_type": "stream",
     "text": [
      "Cannot divide by zero\n"
     ]
    }
   ],
   "source": [
    "#task2\n",
    "try:\n",
    "    \n",
    "    result = 10 / 0\n",
    "except ZeroDivisionError:\n",
    "   \n",
    "    print(\"Cannot divide by zero\")"
   ]
  },
  {
   "cell_type": "code",
   "execution_count": 35,
   "id": "fd76112a-1a1d-429d-9cfd-f05036d99218",
   "metadata": {},
   "outputs": [
    {
     "name": "stdout",
     "output_type": "stream",
     "text": [
      "woof\n"
     ]
    }
   ],
   "source": [
    "#task 3\n",
    "\n",
    "class Animal:\n",
    "    def sound(self):\n",
    "        print(\"bowbow\")\n",
    "\n",
    "class Dog(Animal):\n",
    "    def sound(self):\n",
    "        print(\"woof\")\n",
    "\n",
    "junu = Dog()\n",
    "junu.sound()\n",
    "    "
   ]
  },
  {
   "cell_type": "code",
   "execution_count": 39,
   "id": "179008d7-ec25-4ca6-8640-d45f11a2144f",
   "metadata": {},
   "outputs": [
    {
     "name": "stdout",
     "output_type": "stream",
     "text": [
      "Elapsed time: 1.01 seconds\n"
     ]
    }
   ],
   "source": [
    "#task4\n",
    "\n",
    "import time\n",
    "\n",
    "def timer_decorator(func):\n",
    "    def wrapper():\n",
    "        # Step 4: Record the start time\n",
    "        start_time = time.time()\n",
    "        func()\n",
    "        # Step 5: Calculate and print the elapsed time\n",
    "        elapsed_time = time.time() - start_time\n",
    "        print(f\"Elapsed time: {elapsed_time:.2f} seconds\")\n",
    "    return wrapper\n",
    "\n",
    "\n",
    "@timer_decorator\n",
    "def sample_function():\n",
    "    time.sleep(1)  # Pause for 1 second\n",
    "\n",
    "\n",
    "sample_function()  "
   ]
  },
  {
   "cell_type": "code",
   "execution_count": 43,
   "id": "f5827aa4-464b-4039-9ef9-bdcf6a430700",
   "metadata": {},
   "outputs": [
    {
     "name": "stdout",
     "output_type": "stream",
     "text": [
      "[0, 1, 1, 2, 3]\n"
     ]
    }
   ],
   "source": [
    "#task 5\n",
    "\n",
    "def fib(n):\n",
    "    a, b = 0, 1\n",
    "    for _ in range(n):\n",
    "        yield a\n",
    "        a, b = b, a + b\n",
    "\n",
    "\n",
    "fib_sequence = list(fib(5))\n",
    "\n",
    "\n",
    "print(fib_sequence)  \n"
   ]
  },
  {
   "cell_type": "code",
   "execution_count": 45,
   "id": "84d99df2-c699-46e6-a67a-9f77b3c9b2d2",
   "metadata": {},
   "outputs": [
    {
     "name": "stdout",
     "output_type": "stream",
     "text": [
      "Original: [[8, 2], [3, 4]]\n",
      "Shallow Copy: [[8, 2], [3, 4]]\n",
      "Deep Copy: [[7, 2], [3, 4]]\n"
     ]
    }
   ],
   "source": [
    "# Bonus: Deep Copy Test\n",
    "import copy\n",
    "\n",
    "\n",
    "original_list = [[9, 2], [3, 4]]\n",
    "\n",
    "\n",
    "shallow_copy = copy.copy(original_list)\n",
    "\n",
    "\n",
    "deep_copy = copy.deepcopy(original_list)\n",
    "\n",
    "\n",
    "shallow_copy[0][0] = 8\n",
    "\n",
    "\n",
    "deep_copy[0][0] = 7\n",
    "\n",
    "\n",
    "print(\"Original:\", original_list)  \n",
    "print(\"Shallow Copy:\", shallow_copy)  \n",
    "print(\"Deep Copy:\", deep_copy) "
   ]
  },
  {
   "cell_type": "code",
   "execution_count": null,
   "id": "dfa6ff5c-b85d-4a54-bebd-33283d4f9805",
   "metadata": {},
   "outputs": [],
   "source": []
  }
 ],
 "metadata": {
  "kernelspec": {
   "display_name": "Python [conda env:base] *",
   "language": "python",
   "name": "conda-base-py"
  },
  "language_info": {
   "codemirror_mode": {
    "name": "ipython",
    "version": 3
   },
   "file_extension": ".py",
   "mimetype": "text/x-python",
   "name": "python",
   "nbconvert_exporter": "python",
   "pygments_lexer": "ipython3",
   "version": "3.12.4"
  }
 },
 "nbformat": 4,
 "nbformat_minor": 5
}

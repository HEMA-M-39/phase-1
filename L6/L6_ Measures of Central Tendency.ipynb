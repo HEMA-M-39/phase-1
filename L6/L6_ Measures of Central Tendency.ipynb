{
 "cells": [
  {
   "cell_type": "code",
   "execution_count": 1,
   "id": "fb52020d-d6c5-4e5d-abef-47a10e68f2ae",
   "metadata": {},
   "outputs": [
    {
     "name": "stdout",
     "output_type": "stream",
     "text": [
      "Dataset: [3, 5, 5, 6, 7, 100]\n",
      "Mean: 21.00\n",
      "Median: 5.5\n",
      "Mode: 5\n",
      "\n",
      "Interpretation:\n",
      "The mean is high due to the outlier (100), while the median and mode better represent the typical value.\n"
     ]
    }
   ],
   "source": [
    "#task 5 \n",
    "\n",
    "# Calculate Mean, Median, and Mode\n",
    "import statistics\n",
    "\n",
    "def calculate_central_tendency(data):\n",
    "    # Mean\n",
    "    mean = sum(data) / len(data)\n",
    "\n",
    "    # Median\n",
    "    median = statistics.median(data)\n",
    "\n",
    "    # Mode\n",
    "    mode = statistics.mode(data)\n",
    "\n",
    "    print(f\"Dataset: {data}\")\n",
    "    print(f\"Mean: {mean:.2f}\")\n",
    "    print(f\"Median: {median}\")\n",
    "    print(f\"Mode: {mode}\")\n",
    "\n",
    "    # Interpretation\n",
    "    print(\"\\nInterpretation:\")\n",
    "    print(\"The mean is high due to the outlier (100), while the median and mode better represent the typical value.\")\n",
    "\n",
    "# Dataset\n",
    "data = [3, 5, 5, 6, 7, 100]\n",
    "calculate_central_tendency(data)"
   ]
  },
  {
   "cell_type": "code",
   "execution_count": null,
   "id": "a45a7ac1-cd75-420f-a45b-62a32ba5fd2f",
   "metadata": {},
   "outputs": [],
   "source": []
  }
 ],
 "metadata": {
  "kernelspec": {
   "display_name": "Python [conda env:base] *",
   "language": "python",
   "name": "conda-base-py"
  },
  "language_info": {
   "codemirror_mode": {
    "name": "ipython",
    "version": 3
   },
   "file_extension": ".py",
   "mimetype": "text/x-python",
   "name": "python",
   "nbconvert_exporter": "python",
   "pygments_lexer": "ipython3",
   "version": "3.12.4"
  }
 },
 "nbformat": 4,
 "nbformat_minor": 5
}

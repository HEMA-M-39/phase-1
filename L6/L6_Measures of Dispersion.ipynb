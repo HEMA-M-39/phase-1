{
 "cells": [
  {
   "cell_type": "code",
   "execution_count": 1,
   "id": "c0af5ccc-bf44-4a20-899c-50726a06c3ed",
   "metadata": {},
   "outputs": [
    {
     "name": "stdout",
     "output_type": "stream",
     "text": [
      "Mean: 6.0\n",
      "Variance: 8.0\n",
      "Standard Deviation: 2.8284271247461903\n",
      "Variance measures how spread out the data is, and standard deviation represents the average distance from the mean.\n"
     ]
    }
   ],
   "source": [
    "\n",
    "import numpy as np\n",
    "\n",
    "data = [2, 4, 6, 8, 10]\n",
    "\n",
    "# Calculate mean\n",
    "mean = np.mean(data)\n",
    "\n",
    "# Calculate variance\n",
    "variance = np.var(data)\n",
    "\n",
    "# Calculate standard deviation\n",
    "std_dev = np.sqrt(variance)\n",
    "\n",
    "print(f\"Mean: {mean}\")\n",
    "print(f\"Variance: {variance}\")\n",
    "print(f\"Standard Deviation: {std_dev}\")\n",
    "\n",
    "if variance > 0:\n",
    "    print(\"Variance measures how spread out the data is, and standard deviation represents the average distance from the mean.\")\n",
    "else:\n",
    "    print(\"The data has no variability.\")\n"
   ]
  },
  {
   "cell_type": "code",
   "execution_count": null,
   "id": "269afd53-44ff-4b00-a291-b272eb5d3f51",
   "metadata": {},
   "outputs": [],
   "source": []
  }
 ],
 "metadata": {
  "kernelspec": {
   "display_name": "Python [conda env:base] *",
   "language": "python",
   "name": "conda-base-py"
  },
  "language_info": {
   "codemirror_mode": {
    "name": "ipython",
    "version": 3
   },
   "file_extension": ".py",
   "mimetype": "text/x-python",
   "name": "python",
   "nbconvert_exporter": "python",
   "pygments_lexer": "ipython3",
   "version": "3.12.4"
  }
 },
 "nbformat": 4,
 "nbformat_minor": 5
}

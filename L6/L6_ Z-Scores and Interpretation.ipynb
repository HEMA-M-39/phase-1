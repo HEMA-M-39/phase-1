{
 "cells": [
  {
   "cell_type": "code",
   "execution_count": 1,
   "id": "926c6bd3-a5ee-4fe6-a6c0-21af5a9a616e",
   "metadata": {},
   "outputs": [
    {
     "name": "stdout",
     "output_type": "stream",
     "text": [
      "Z-score for x = 60: 1.0\n",
      "x = 60 is 1.0 standard deviation(s) above the mean.\n",
      "Z-score for x = 40: -1.0\n",
      "x = 40 is 1.0 standard deviation(s) below the mean.\n"
     ]
    }
   ],
   "source": [
    "#task 6\n",
    "\n",
    "# Function to calculate Z-score\n",
    "def calculate_z_score(x, mean, std_dev):\n",
    "    return (x - mean) / std_dev\n",
    "\n",
    "# Dataset parameters\n",
    "mean = 50\n",
    "std_dev = 10\n",
    "\n",
    "# Values to calculate Z-scores for\n",
    "x_values = [60, 40]\n",
    "\n",
    "# Calculate and interpret Z-scores\n",
    "for x in x_values:\n",
    "    z = calculate_z_score(x, mean, std_dev)\n",
    "    print(f\"Z-score for x = {x}: {z}\")\n",
    "    if z > 0:\n",
    "        print(f\"x = {x} is {z} standard deviation(s) above the mean.\")\n",
    "    elif z < 0:\n",
    "        print(f\"x = {x} is {abs(z)} standard deviation(s) below the mean.\")\n",
    "    else:\n",
    "        print(f\"x = {x} is exactly at the mean.\")\n"
   ]
  },
  {
   "cell_type": "code",
   "execution_count": null,
   "id": "92eb0f9f-f69e-49ad-b8d2-2a2123b0becc",
   "metadata": {},
   "outputs": [],
   "source": []
  }
 ],
 "metadata": {
  "kernelspec": {
   "display_name": "Python [conda env:base] *",
   "language": "python",
   "name": "conda-base-py"
  },
  "language_info": {
   "codemirror_mode": {
    "name": "ipython",
    "version": 3
   },
   "file_extension": ".py",
   "mimetype": "text/x-python",
   "name": "python",
   "nbconvert_exporter": "python",
   "pygments_lexer": "ipython3",
   "version": "3.12.4"
  }
 },
 "nbformat": 4,
 "nbformat_minor": 5
}

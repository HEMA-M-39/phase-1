{
 "cells": [
  {
   "cell_type": "code",
   "execution_count": 1,
   "id": "85a66871-0b96-4957-a16c-0ca8b007b8b9",
   "metadata": {},
   "outputs": [
    {
     "name": "stdout",
     "output_type": "stream",
     "text": [
      "Sorted Data: [1, 2, 3, 4, 5, 6, 7, 8, 9, 20]\n",
      "Q1 (25th Percentile): 3.25\n",
      "Q3 (75th Percentile): 7.75\n",
      "IQR: 4.5\n",
      "Lower Fence: -3.5\n",
      "Upper Fence: 14.5\n",
      "Outliers: [20]\n"
     ]
    }
   ],
   "source": [
    "#task 7\n",
    "\n",
    "# Step 1: Import required libraries\n",
    "import numpy as np\n",
    "\n",
    "# Step 2: Define the dataset\n",
    "data = [1, 2, 3, 4, 5, 6, 7, 8, 9, 20]\n",
    "\n",
    "# Step 3: Sort the dataset\n",
    "sorted_data = sorted(data)\n",
    "\n",
    "# Step 4: Calculate Q1 (25th percentile) and Q3 (75th percentile)\n",
    "Q1 = np.percentile(sorted_data, 25)\n",
    "Q3 = np.percentile(sorted_data, 75)\n",
    "\n",
    "# Step 5: Calculate the Interquartile Range (IQR)\n",
    "IQR = Q3 - Q1\n",
    "\n",
    "# Step 6: Calculate the lower and upper fences\n",
    "lower_fence = Q1 - 1.5 * IQR\n",
    "upper_fence = Q3 + 1.5 * IQR\n",
    "\n",
    "# Step 7: Identify outliers\n",
    "outliers = [x for x in sorted_data if x < lower_fence or x > upper_fence]\n",
    "\n",
    "# Step 8: Display the results\n",
    "print(f\"Sorted Data: {sorted_data}\")\n",
    "print(f\"Q1 (25th Percentile): {Q1}\")\n",
    "print(f\"Q3 (75th Percentile): {Q3}\")\n",
    "print(f\"IQR: {IQR}\")\n",
    "print(f\"Lower Fence: {lower_fence}\")\n",
    "print(f\"Upper Fence: {upper_fence}\")\n",
    "print(f\"Outliers: {outliers}\")\n"
   ]
  },
  {
   "cell_type": "code",
   "execution_count": null,
   "id": "750981cf-baa1-49d2-a762-f86740511439",
   "metadata": {},
   "outputs": [],
   "source": []
  }
 ],
 "metadata": {
  "kernelspec": {
   "display_name": "Python [conda env:base] *",
   "language": "python",
   "name": "conda-base-py"
  },
  "language_info": {
   "codemirror_mode": {
    "name": "ipython",
    "version": 3
   },
   "file_extension": ".py",
   "mimetype": "text/x-python",
   "name": "python",
   "nbconvert_exporter": "python",
   "pygments_lexer": "ipython3",
   "version": "3.12.4"
  }
 },
 "nbformat": 4,
 "nbformat_minor": 5
}

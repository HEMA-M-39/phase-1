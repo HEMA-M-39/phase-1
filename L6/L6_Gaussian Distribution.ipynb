{
 "cells": [
  {
   "cell_type": "code",
   "execution_count": 5,
   "id": "ffba5cd0-eced-4d2d-9ac3-71dad2cadea6",
   "metadata": {},
   "outputs": [
    {
     "name": "stdout",
     "output_type": "stream",
     "text": [
      "Approximately 68.27% of the data lies between 85 and 115.\n"
     ]
    }
   ],
   "source": [
    "from scipy.stats import norm\n",
    "\n",
    "# Parameters for the normal distribution\n",
    "mean = 100\n",
    "std_dev = 15\n",
    "\n",
    "# Calculate the cumulative distribution function (CDF)\n",
    "probability = norm.cdf(115, mean, std_dev) - norm.cdf(85, mean, std_dev)\n",
    "\n",
    "# Convert to percentage\n",
    "percentage = probability * 100\n",
    "\n",
    "if 85 <= mean <= 115:\n",
    "    print(f\"Approximately {percentage:.2f}% of the data lies between 85 and 115.\")\n",
    "else:\n",
    "    print(\"The mean is outside the specified range.\")\n"
   ]
  },
  {
   "cell_type": "code",
   "execution_count": null,
   "id": "aecd5408-9540-4100-8128-7631fecffb4b",
   "metadata": {},
   "outputs": [],
   "source": []
  }
 ],
 "metadata": {
  "kernelspec": {
   "display_name": "Python [conda env:base] *",
   "language": "python",
   "name": "conda-base-py"
  },
  "language_info": {
   "codemirror_mode": {
    "name": "ipython",
    "version": 3
   },
   "file_extension": ".py",
   "mimetype": "text/x-python",
   "name": "python",
   "nbconvert_exporter": "python",
   "pygments_lexer": "ipython3",
   "version": "3.12.4"
  }
 },
 "nbformat": 4,
 "nbformat_minor": 5
}

{
 "cells": [
  {
   "cell_type": "code",
   "execution_count": 1,
   "id": "2f26e3e1-1d4c-4aa2-9c65-3cdb188f9b93",
   "metadata": {},
   "outputs": [
    {
     "name": "stdout",
     "output_type": "stream",
     "text": [
      "Number of pets: Quantitative (Discrete)\n",
      "Blood type: Qualitative (Categorical)\n",
      "Weight in kg: Quantitative (Continuous)\n",
      "Satisfaction level: Qualitative (Categorical)\n"
     ]
    }
   ],
   "source": [
    "#task 4\n",
    "# Function to classify variables\n",
    "def classify_variable(variable_name):\n",
    "    classifications = {\n",
    "        \"Number of pets\": (\"Quantitative\", \"Discrete\"),\n",
    "        \"Blood type\": (\"Qualitative\", \"Categorical\"),\n",
    "        \"Weight in kg\": (\"Quantitative\", \"Continuous\"),\n",
    "        \"Satisfaction level\": (\"Qualitative\", \"Categorical\"),\n",
    "    }\n",
    "\n",
    "    if variable_name in classifications:\n",
    "        var_type, sub_type = classifications[variable_name]\n",
    "        print(f\"{variable_name}: {var_type} ({sub_type})\")\n",
    "    else:\n",
    "        print(f\"{variable_name}: Classification not found\")\n",
    "\n",
    "# Classify given variables\n",
    "variables = [\"Number of pets\", \"Blood type\", \"Weight in kg\", \"Satisfaction level\"]\n",
    "\n",
    "for var in variables:\n",
    "    classify_variable(var)\n"
   ]
  },
  {
   "cell_type": "code",
   "execution_count": null,
   "id": "9420d911-3e79-46bf-a4a5-7ee4e9547717",
   "metadata": {},
   "outputs": [],
   "source": []
  }
 ],
 "metadata": {
  "kernelspec": {
   "display_name": "Python [conda env:base] *",
   "language": "python",
   "name": "conda-base-py"
  },
  "language_info": {
   "codemirror_mode": {
    "name": "ipython",
    "version": 3
   },
   "file_extension": ".py",
   "mimetype": "text/x-python",
   "name": "python",
   "nbconvert_exporter": "python",
   "pygments_lexer": "ipython3",
   "version": "3.12.4"
  }
 },
 "nbformat": 4,
 "nbformat_minor": 5
}
